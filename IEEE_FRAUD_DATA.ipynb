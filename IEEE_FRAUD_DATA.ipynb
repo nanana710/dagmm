{
 "cells": [
  {
   "cell_type": "markdown",
   "metadata": {},
   "source": [
    "# Deep Autoencoding Gaussian Mixture Model for Unsupervised Anomaly Detection"
   ]
  },
  {
   "cell_type": "code",
   "execution_count": 1,
   "metadata": {},
   "outputs": [],
   "source": [
    "import numpy as np \n",
    "import pandas as pd\n",
    "import torch\n",
    "from data_loader import * \n",
    "from main import *\n",
    "from tqdm import tqdm\n",
    "from sklearn.preprocessing import Imputer"
   ]
  },
  {
   "cell_type": "markdown",
   "metadata": {},
   "source": [
    "## KDD Cup 1999 Data (10% subset)\n",
    "This is the data set used for The Third International Knowledge Discovery and Data Mining Tools Competition, which was held in conjunction with KDD-99 The Fifth International Conference on Knowledge Discovery and Data Mining. The competition task was to build a network intrusion detector, a predictive model capable of distinguishing between \"bad\" connections, called intrusions or attacks, and \"good\" normal connections. This database contains a standard set of data to be audited, which includes a wide variety of intrusions simulated in a military network environment. "
   ]
  },
  {
   "cell_type": "code",
   "execution_count": 2,
   "metadata": {},
   "outputs": [
    {
     "data": {
      "text/html": [
       "<div>\n",
       "<style scoped>\n",
       "    .dataframe tbody tr th:only-of-type {\n",
       "        vertical-align: middle;\n",
       "    }\n",
       "\n",
       "    .dataframe tbody tr th {\n",
       "        vertical-align: top;\n",
       "    }\n",
       "\n",
       "    .dataframe thead th {\n",
       "        text-align: right;\n",
       "    }\n",
       "</style>\n",
       "<table border=\"1\" class=\"dataframe\">\n",
       "  <thead>\n",
       "    <tr style=\"text-align: right;\">\n",
       "      <th></th>\n",
       "      <th>TransactionID</th>\n",
       "      <th>isFraud</th>\n",
       "      <th>TransactionDT</th>\n",
       "      <th>TransactionAmt</th>\n",
       "      <th>ProductCD</th>\n",
       "      <th>card1</th>\n",
       "      <th>card2</th>\n",
       "      <th>card3</th>\n",
       "      <th>card4</th>\n",
       "      <th>card5</th>\n",
       "      <th>...</th>\n",
       "      <th>V330</th>\n",
       "      <th>V331</th>\n",
       "      <th>V332</th>\n",
       "      <th>V333</th>\n",
       "      <th>V334</th>\n",
       "      <th>V335</th>\n",
       "      <th>V336</th>\n",
       "      <th>V337</th>\n",
       "      <th>V338</th>\n",
       "      <th>V339</th>\n",
       "    </tr>\n",
       "  </thead>\n",
       "  <tbody>\n",
       "    <tr>\n",
       "      <th>0</th>\n",
       "      <td>2987000</td>\n",
       "      <td>0</td>\n",
       "      <td>86400</td>\n",
       "      <td>68.50</td>\n",
       "      <td>W</td>\n",
       "      <td>13926</td>\n",
       "      <td>NaN</td>\n",
       "      <td>150.0</td>\n",
       "      <td>discover</td>\n",
       "      <td>142.0</td>\n",
       "      <td>...</td>\n",
       "      <td>NaN</td>\n",
       "      <td>NaN</td>\n",
       "      <td>NaN</td>\n",
       "      <td>NaN</td>\n",
       "      <td>NaN</td>\n",
       "      <td>NaN</td>\n",
       "      <td>NaN</td>\n",
       "      <td>NaN</td>\n",
       "      <td>NaN</td>\n",
       "      <td>NaN</td>\n",
       "    </tr>\n",
       "    <tr>\n",
       "      <th>1</th>\n",
       "      <td>2987001</td>\n",
       "      <td>0</td>\n",
       "      <td>86401</td>\n",
       "      <td>29.00</td>\n",
       "      <td>W</td>\n",
       "      <td>2755</td>\n",
       "      <td>404.0</td>\n",
       "      <td>150.0</td>\n",
       "      <td>mastercard</td>\n",
       "      <td>102.0</td>\n",
       "      <td>...</td>\n",
       "      <td>NaN</td>\n",
       "      <td>NaN</td>\n",
       "      <td>NaN</td>\n",
       "      <td>NaN</td>\n",
       "      <td>NaN</td>\n",
       "      <td>NaN</td>\n",
       "      <td>NaN</td>\n",
       "      <td>NaN</td>\n",
       "      <td>NaN</td>\n",
       "      <td>NaN</td>\n",
       "    </tr>\n",
       "    <tr>\n",
       "      <th>2</th>\n",
       "      <td>2987002</td>\n",
       "      <td>0</td>\n",
       "      <td>86469</td>\n",
       "      <td>59.00</td>\n",
       "      <td>W</td>\n",
       "      <td>4663</td>\n",
       "      <td>490.0</td>\n",
       "      <td>150.0</td>\n",
       "      <td>visa</td>\n",
       "      <td>166.0</td>\n",
       "      <td>...</td>\n",
       "      <td>NaN</td>\n",
       "      <td>NaN</td>\n",
       "      <td>NaN</td>\n",
       "      <td>NaN</td>\n",
       "      <td>NaN</td>\n",
       "      <td>NaN</td>\n",
       "      <td>NaN</td>\n",
       "      <td>NaN</td>\n",
       "      <td>NaN</td>\n",
       "      <td>NaN</td>\n",
       "    </tr>\n",
       "    <tr>\n",
       "      <th>3</th>\n",
       "      <td>2987003</td>\n",
       "      <td>0</td>\n",
       "      <td>86499</td>\n",
       "      <td>50.00</td>\n",
       "      <td>W</td>\n",
       "      <td>18132</td>\n",
       "      <td>567.0</td>\n",
       "      <td>150.0</td>\n",
       "      <td>mastercard</td>\n",
       "      <td>117.0</td>\n",
       "      <td>...</td>\n",
       "      <td>NaN</td>\n",
       "      <td>NaN</td>\n",
       "      <td>NaN</td>\n",
       "      <td>NaN</td>\n",
       "      <td>NaN</td>\n",
       "      <td>NaN</td>\n",
       "      <td>NaN</td>\n",
       "      <td>NaN</td>\n",
       "      <td>NaN</td>\n",
       "      <td>NaN</td>\n",
       "    </tr>\n",
       "    <tr>\n",
       "      <th>4</th>\n",
       "      <td>2987004</td>\n",
       "      <td>0</td>\n",
       "      <td>86506</td>\n",
       "      <td>50.00</td>\n",
       "      <td>H</td>\n",
       "      <td>4497</td>\n",
       "      <td>514.0</td>\n",
       "      <td>150.0</td>\n",
       "      <td>mastercard</td>\n",
       "      <td>102.0</td>\n",
       "      <td>...</td>\n",
       "      <td>0.0</td>\n",
       "      <td>0.0</td>\n",
       "      <td>0.0</td>\n",
       "      <td>0.0</td>\n",
       "      <td>0.0</td>\n",
       "      <td>0.0</td>\n",
       "      <td>0.0</td>\n",
       "      <td>0.0</td>\n",
       "      <td>0.0</td>\n",
       "      <td>0.0</td>\n",
       "    </tr>\n",
       "    <tr>\n",
       "      <th>...</th>\n",
       "      <td>...</td>\n",
       "      <td>...</td>\n",
       "      <td>...</td>\n",
       "      <td>...</td>\n",
       "      <td>...</td>\n",
       "      <td>...</td>\n",
       "      <td>...</td>\n",
       "      <td>...</td>\n",
       "      <td>...</td>\n",
       "      <td>...</td>\n",
       "      <td>...</td>\n",
       "      <td>...</td>\n",
       "      <td>...</td>\n",
       "      <td>...</td>\n",
       "      <td>...</td>\n",
       "      <td>...</td>\n",
       "      <td>...</td>\n",
       "      <td>...</td>\n",
       "      <td>...</td>\n",
       "      <td>...</td>\n",
       "      <td>...</td>\n",
       "    </tr>\n",
       "    <tr>\n",
       "      <th>590535</th>\n",
       "      <td>3577535</td>\n",
       "      <td>0</td>\n",
       "      <td>15811047</td>\n",
       "      <td>49.00</td>\n",
       "      <td>W</td>\n",
       "      <td>6550</td>\n",
       "      <td>NaN</td>\n",
       "      <td>150.0</td>\n",
       "      <td>visa</td>\n",
       "      <td>226.0</td>\n",
       "      <td>...</td>\n",
       "      <td>NaN</td>\n",
       "      <td>NaN</td>\n",
       "      <td>NaN</td>\n",
       "      <td>NaN</td>\n",
       "      <td>NaN</td>\n",
       "      <td>NaN</td>\n",
       "      <td>NaN</td>\n",
       "      <td>NaN</td>\n",
       "      <td>NaN</td>\n",
       "      <td>NaN</td>\n",
       "    </tr>\n",
       "    <tr>\n",
       "      <th>590536</th>\n",
       "      <td>3577536</td>\n",
       "      <td>0</td>\n",
       "      <td>15811049</td>\n",
       "      <td>39.50</td>\n",
       "      <td>W</td>\n",
       "      <td>10444</td>\n",
       "      <td>225.0</td>\n",
       "      <td>150.0</td>\n",
       "      <td>mastercard</td>\n",
       "      <td>224.0</td>\n",
       "      <td>...</td>\n",
       "      <td>NaN</td>\n",
       "      <td>NaN</td>\n",
       "      <td>NaN</td>\n",
       "      <td>NaN</td>\n",
       "      <td>NaN</td>\n",
       "      <td>NaN</td>\n",
       "      <td>NaN</td>\n",
       "      <td>NaN</td>\n",
       "      <td>NaN</td>\n",
       "      <td>NaN</td>\n",
       "    </tr>\n",
       "    <tr>\n",
       "      <th>590537</th>\n",
       "      <td>3577537</td>\n",
       "      <td>0</td>\n",
       "      <td>15811079</td>\n",
       "      <td>30.95</td>\n",
       "      <td>W</td>\n",
       "      <td>12037</td>\n",
       "      <td>595.0</td>\n",
       "      <td>150.0</td>\n",
       "      <td>mastercard</td>\n",
       "      <td>224.0</td>\n",
       "      <td>...</td>\n",
       "      <td>NaN</td>\n",
       "      <td>NaN</td>\n",
       "      <td>NaN</td>\n",
       "      <td>NaN</td>\n",
       "      <td>NaN</td>\n",
       "      <td>NaN</td>\n",
       "      <td>NaN</td>\n",
       "      <td>NaN</td>\n",
       "      <td>NaN</td>\n",
       "      <td>NaN</td>\n",
       "    </tr>\n",
       "    <tr>\n",
       "      <th>590538</th>\n",
       "      <td>3577538</td>\n",
       "      <td>0</td>\n",
       "      <td>15811088</td>\n",
       "      <td>117.00</td>\n",
       "      <td>W</td>\n",
       "      <td>7826</td>\n",
       "      <td>481.0</td>\n",
       "      <td>150.0</td>\n",
       "      <td>mastercard</td>\n",
       "      <td>224.0</td>\n",
       "      <td>...</td>\n",
       "      <td>NaN</td>\n",
       "      <td>NaN</td>\n",
       "      <td>NaN</td>\n",
       "      <td>NaN</td>\n",
       "      <td>NaN</td>\n",
       "      <td>NaN</td>\n",
       "      <td>NaN</td>\n",
       "      <td>NaN</td>\n",
       "      <td>NaN</td>\n",
       "      <td>NaN</td>\n",
       "    </tr>\n",
       "    <tr>\n",
       "      <th>590539</th>\n",
       "      <td>3577539</td>\n",
       "      <td>0</td>\n",
       "      <td>15811131</td>\n",
       "      <td>279.95</td>\n",
       "      <td>W</td>\n",
       "      <td>15066</td>\n",
       "      <td>170.0</td>\n",
       "      <td>150.0</td>\n",
       "      <td>mastercard</td>\n",
       "      <td>102.0</td>\n",
       "      <td>...</td>\n",
       "      <td>NaN</td>\n",
       "      <td>NaN</td>\n",
       "      <td>NaN</td>\n",
       "      <td>NaN</td>\n",
       "      <td>NaN</td>\n",
       "      <td>NaN</td>\n",
       "      <td>NaN</td>\n",
       "      <td>NaN</td>\n",
       "      <td>NaN</td>\n",
       "      <td>NaN</td>\n",
       "    </tr>\n",
       "  </tbody>\n",
       "</table>\n",
       "<p>590540 rows × 394 columns</p>\n",
       "</div>"
      ],
      "text/plain": [
       "        TransactionID  isFraud  TransactionDT  TransactionAmt ProductCD  \\\n",
       "0             2987000        0          86400           68.50         W   \n",
       "1             2987001        0          86401           29.00         W   \n",
       "2             2987002        0          86469           59.00         W   \n",
       "3             2987003        0          86499           50.00         W   \n",
       "4             2987004        0          86506           50.00         H   \n",
       "...               ...      ...            ...             ...       ...   \n",
       "590535        3577535        0       15811047           49.00         W   \n",
       "590536        3577536        0       15811049           39.50         W   \n",
       "590537        3577537        0       15811079           30.95         W   \n",
       "590538        3577538        0       15811088          117.00         W   \n",
       "590539        3577539        0       15811131          279.95         W   \n",
       "\n",
       "        card1  card2  card3       card4  card5  ... V330  V331  V332  V333  \\\n",
       "0       13926    NaN  150.0    discover  142.0  ...  NaN   NaN   NaN   NaN   \n",
       "1        2755  404.0  150.0  mastercard  102.0  ...  NaN   NaN   NaN   NaN   \n",
       "2        4663  490.0  150.0        visa  166.0  ...  NaN   NaN   NaN   NaN   \n",
       "3       18132  567.0  150.0  mastercard  117.0  ...  NaN   NaN   NaN   NaN   \n",
       "4        4497  514.0  150.0  mastercard  102.0  ...  0.0   0.0   0.0   0.0   \n",
       "...       ...    ...    ...         ...    ...  ...  ...   ...   ...   ...   \n",
       "590535   6550    NaN  150.0        visa  226.0  ...  NaN   NaN   NaN   NaN   \n",
       "590536  10444  225.0  150.0  mastercard  224.0  ...  NaN   NaN   NaN   NaN   \n",
       "590537  12037  595.0  150.0  mastercard  224.0  ...  NaN   NaN   NaN   NaN   \n",
       "590538   7826  481.0  150.0  mastercard  224.0  ...  NaN   NaN   NaN   NaN   \n",
       "590539  15066  170.0  150.0  mastercard  102.0  ...  NaN   NaN   NaN   NaN   \n",
       "\n",
       "        V334 V335 V336  V337  V338  V339  \n",
       "0        NaN  NaN  NaN   NaN   NaN   NaN  \n",
       "1        NaN  NaN  NaN   NaN   NaN   NaN  \n",
       "2        NaN  NaN  NaN   NaN   NaN   NaN  \n",
       "3        NaN  NaN  NaN   NaN   NaN   NaN  \n",
       "4        0.0  0.0  0.0   0.0   0.0   0.0  \n",
       "...      ...  ...  ...   ...   ...   ...  \n",
       "590535   NaN  NaN  NaN   NaN   NaN   NaN  \n",
       "590536   NaN  NaN  NaN   NaN   NaN   NaN  \n",
       "590537   NaN  NaN  NaN   NaN   NaN   NaN  \n",
       "590538   NaN  NaN  NaN   NaN   NaN   NaN  \n",
       "590539   NaN  NaN  NaN   NaN   NaN   NaN  \n",
       "\n",
       "[590540 rows x 394 columns]"
      ]
     },
     "execution_count": 2,
     "metadata": {},
     "output_type": "execute_result"
    }
   ],
   "source": [
    "#WIndows\n",
    "#transaction_data = pd.read_csv(\"C:/Users/cncluser/Downloads/ieee-fraud-detection/train_transaction.csv\", header=0)\n",
    "#macOS\n",
    "transaction_data = pd.read_csv(\"/Users/nami/Downloads/ieee-fraud-detection/train_transaction.csv\", header=0)\n",
    "\n",
    "transaction_data"
   ]
  },
  {
   "cell_type": "code",
   "execution_count": 3,
   "metadata": {
    "scrolled": true
   },
   "outputs": [
    {
     "data": {
      "text/html": [
       "<div>\n",
       "<style scoped>\n",
       "    .dataframe tbody tr th:only-of-type {\n",
       "        vertical-align: middle;\n",
       "    }\n",
       "\n",
       "    .dataframe tbody tr th {\n",
       "        vertical-align: top;\n",
       "    }\n",
       "\n",
       "    .dataframe thead th {\n",
       "        text-align: right;\n",
       "    }\n",
       "</style>\n",
       "<table border=\"1\" class=\"dataframe\">\n",
       "  <thead>\n",
       "    <tr style=\"text-align: right;\">\n",
       "      <th></th>\n",
       "      <th>TransactionID</th>\n",
       "      <th>id_01</th>\n",
       "      <th>id_02</th>\n",
       "      <th>id_03</th>\n",
       "      <th>id_04</th>\n",
       "      <th>id_05</th>\n",
       "      <th>id_06</th>\n",
       "      <th>id_07</th>\n",
       "      <th>id_08</th>\n",
       "      <th>id_09</th>\n",
       "      <th>...</th>\n",
       "      <th>id_31</th>\n",
       "      <th>id_32</th>\n",
       "      <th>id_33</th>\n",
       "      <th>id_34</th>\n",
       "      <th>id_35</th>\n",
       "      <th>id_36</th>\n",
       "      <th>id_37</th>\n",
       "      <th>id_38</th>\n",
       "      <th>DeviceType</th>\n",
       "      <th>DeviceInfo</th>\n",
       "    </tr>\n",
       "  </thead>\n",
       "  <tbody>\n",
       "    <tr>\n",
       "      <th>0</th>\n",
       "      <td>2987004</td>\n",
       "      <td>0.0</td>\n",
       "      <td>70787.0</td>\n",
       "      <td>NaN</td>\n",
       "      <td>NaN</td>\n",
       "      <td>NaN</td>\n",
       "      <td>NaN</td>\n",
       "      <td>NaN</td>\n",
       "      <td>NaN</td>\n",
       "      <td>NaN</td>\n",
       "      <td>...</td>\n",
       "      <td>samsung browser 6.2</td>\n",
       "      <td>32.0</td>\n",
       "      <td>2220x1080</td>\n",
       "      <td>match_status:2</td>\n",
       "      <td>T</td>\n",
       "      <td>F</td>\n",
       "      <td>T</td>\n",
       "      <td>T</td>\n",
       "      <td>mobile</td>\n",
       "      <td>SAMSUNG SM-G892A Build/NRD90M</td>\n",
       "    </tr>\n",
       "    <tr>\n",
       "      <th>1</th>\n",
       "      <td>2987008</td>\n",
       "      <td>-5.0</td>\n",
       "      <td>98945.0</td>\n",
       "      <td>NaN</td>\n",
       "      <td>NaN</td>\n",
       "      <td>0.0</td>\n",
       "      <td>-5.0</td>\n",
       "      <td>NaN</td>\n",
       "      <td>NaN</td>\n",
       "      <td>NaN</td>\n",
       "      <td>...</td>\n",
       "      <td>mobile safari 11.0</td>\n",
       "      <td>32.0</td>\n",
       "      <td>1334x750</td>\n",
       "      <td>match_status:1</td>\n",
       "      <td>T</td>\n",
       "      <td>F</td>\n",
       "      <td>F</td>\n",
       "      <td>T</td>\n",
       "      <td>mobile</td>\n",
       "      <td>iOS Device</td>\n",
       "    </tr>\n",
       "    <tr>\n",
       "      <th>2</th>\n",
       "      <td>2987010</td>\n",
       "      <td>-5.0</td>\n",
       "      <td>191631.0</td>\n",
       "      <td>0.0</td>\n",
       "      <td>0.0</td>\n",
       "      <td>0.0</td>\n",
       "      <td>0.0</td>\n",
       "      <td>NaN</td>\n",
       "      <td>NaN</td>\n",
       "      <td>0.0</td>\n",
       "      <td>...</td>\n",
       "      <td>chrome 62.0</td>\n",
       "      <td>NaN</td>\n",
       "      <td>NaN</td>\n",
       "      <td>NaN</td>\n",
       "      <td>F</td>\n",
       "      <td>F</td>\n",
       "      <td>T</td>\n",
       "      <td>T</td>\n",
       "      <td>desktop</td>\n",
       "      <td>Windows</td>\n",
       "    </tr>\n",
       "    <tr>\n",
       "      <th>3</th>\n",
       "      <td>2987011</td>\n",
       "      <td>-5.0</td>\n",
       "      <td>221832.0</td>\n",
       "      <td>NaN</td>\n",
       "      <td>NaN</td>\n",
       "      <td>0.0</td>\n",
       "      <td>-6.0</td>\n",
       "      <td>NaN</td>\n",
       "      <td>NaN</td>\n",
       "      <td>NaN</td>\n",
       "      <td>...</td>\n",
       "      <td>chrome 62.0</td>\n",
       "      <td>NaN</td>\n",
       "      <td>NaN</td>\n",
       "      <td>NaN</td>\n",
       "      <td>F</td>\n",
       "      <td>F</td>\n",
       "      <td>T</td>\n",
       "      <td>T</td>\n",
       "      <td>desktop</td>\n",
       "      <td>NaN</td>\n",
       "    </tr>\n",
       "    <tr>\n",
       "      <th>4</th>\n",
       "      <td>2987016</td>\n",
       "      <td>0.0</td>\n",
       "      <td>7460.0</td>\n",
       "      <td>0.0</td>\n",
       "      <td>0.0</td>\n",
       "      <td>1.0</td>\n",
       "      <td>0.0</td>\n",
       "      <td>NaN</td>\n",
       "      <td>NaN</td>\n",
       "      <td>0.0</td>\n",
       "      <td>...</td>\n",
       "      <td>chrome 62.0</td>\n",
       "      <td>24.0</td>\n",
       "      <td>1280x800</td>\n",
       "      <td>match_status:2</td>\n",
       "      <td>T</td>\n",
       "      <td>F</td>\n",
       "      <td>T</td>\n",
       "      <td>T</td>\n",
       "      <td>desktop</td>\n",
       "      <td>MacOS</td>\n",
       "    </tr>\n",
       "    <tr>\n",
       "      <th>...</th>\n",
       "      <td>...</td>\n",
       "      <td>...</td>\n",
       "      <td>...</td>\n",
       "      <td>...</td>\n",
       "      <td>...</td>\n",
       "      <td>...</td>\n",
       "      <td>...</td>\n",
       "      <td>...</td>\n",
       "      <td>...</td>\n",
       "      <td>...</td>\n",
       "      <td>...</td>\n",
       "      <td>...</td>\n",
       "      <td>...</td>\n",
       "      <td>...</td>\n",
       "      <td>...</td>\n",
       "      <td>...</td>\n",
       "      <td>...</td>\n",
       "      <td>...</td>\n",
       "      <td>...</td>\n",
       "      <td>...</td>\n",
       "      <td>...</td>\n",
       "    </tr>\n",
       "    <tr>\n",
       "      <th>144228</th>\n",
       "      <td>3577521</td>\n",
       "      <td>-15.0</td>\n",
       "      <td>145955.0</td>\n",
       "      <td>0.0</td>\n",
       "      <td>0.0</td>\n",
       "      <td>0.0</td>\n",
       "      <td>0.0</td>\n",
       "      <td>NaN</td>\n",
       "      <td>NaN</td>\n",
       "      <td>0.0</td>\n",
       "      <td>...</td>\n",
       "      <td>chrome 66.0 for android</td>\n",
       "      <td>NaN</td>\n",
       "      <td>NaN</td>\n",
       "      <td>NaN</td>\n",
       "      <td>F</td>\n",
       "      <td>F</td>\n",
       "      <td>T</td>\n",
       "      <td>F</td>\n",
       "      <td>mobile</td>\n",
       "      <td>F3111 Build/33.3.A.1.97</td>\n",
       "    </tr>\n",
       "    <tr>\n",
       "      <th>144229</th>\n",
       "      <td>3577526</td>\n",
       "      <td>-5.0</td>\n",
       "      <td>172059.0</td>\n",
       "      <td>NaN</td>\n",
       "      <td>NaN</td>\n",
       "      <td>1.0</td>\n",
       "      <td>-5.0</td>\n",
       "      <td>NaN</td>\n",
       "      <td>NaN</td>\n",
       "      <td>NaN</td>\n",
       "      <td>...</td>\n",
       "      <td>chrome 55.0 for android</td>\n",
       "      <td>32.0</td>\n",
       "      <td>855x480</td>\n",
       "      <td>match_status:2</td>\n",
       "      <td>T</td>\n",
       "      <td>F</td>\n",
       "      <td>T</td>\n",
       "      <td>F</td>\n",
       "      <td>mobile</td>\n",
       "      <td>A574BL Build/NMF26F</td>\n",
       "    </tr>\n",
       "    <tr>\n",
       "      <th>144230</th>\n",
       "      <td>3577529</td>\n",
       "      <td>-20.0</td>\n",
       "      <td>632381.0</td>\n",
       "      <td>NaN</td>\n",
       "      <td>NaN</td>\n",
       "      <td>-1.0</td>\n",
       "      <td>-36.0</td>\n",
       "      <td>NaN</td>\n",
       "      <td>NaN</td>\n",
       "      <td>NaN</td>\n",
       "      <td>...</td>\n",
       "      <td>chrome 65.0 for android</td>\n",
       "      <td>NaN</td>\n",
       "      <td>NaN</td>\n",
       "      <td>NaN</td>\n",
       "      <td>F</td>\n",
       "      <td>F</td>\n",
       "      <td>T</td>\n",
       "      <td>F</td>\n",
       "      <td>mobile</td>\n",
       "      <td>Moto E (4) Plus Build/NMA26.42-152</td>\n",
       "    </tr>\n",
       "    <tr>\n",
       "      <th>144231</th>\n",
       "      <td>3577531</td>\n",
       "      <td>-5.0</td>\n",
       "      <td>55528.0</td>\n",
       "      <td>0.0</td>\n",
       "      <td>0.0</td>\n",
       "      <td>0.0</td>\n",
       "      <td>-7.0</td>\n",
       "      <td>NaN</td>\n",
       "      <td>NaN</td>\n",
       "      <td>0.0</td>\n",
       "      <td>...</td>\n",
       "      <td>chrome 66.0</td>\n",
       "      <td>24.0</td>\n",
       "      <td>2560x1600</td>\n",
       "      <td>match_status:2</td>\n",
       "      <td>T</td>\n",
       "      <td>F</td>\n",
       "      <td>T</td>\n",
       "      <td>F</td>\n",
       "      <td>desktop</td>\n",
       "      <td>MacOS</td>\n",
       "    </tr>\n",
       "    <tr>\n",
       "      <th>144232</th>\n",
       "      <td>3577534</td>\n",
       "      <td>-45.0</td>\n",
       "      <td>339406.0</td>\n",
       "      <td>NaN</td>\n",
       "      <td>NaN</td>\n",
       "      <td>-10.0</td>\n",
       "      <td>-100.0</td>\n",
       "      <td>NaN</td>\n",
       "      <td>NaN</td>\n",
       "      <td>NaN</td>\n",
       "      <td>...</td>\n",
       "      <td>chrome 66.0 for android</td>\n",
       "      <td>NaN</td>\n",
       "      <td>NaN</td>\n",
       "      <td>NaN</td>\n",
       "      <td>F</td>\n",
       "      <td>F</td>\n",
       "      <td>T</td>\n",
       "      <td>F</td>\n",
       "      <td>mobile</td>\n",
       "      <td>RNE-L03 Build/HUAWEIRNE-L03</td>\n",
       "    </tr>\n",
       "  </tbody>\n",
       "</table>\n",
       "<p>144233 rows × 41 columns</p>\n",
       "</div>"
      ],
      "text/plain": [
       "        TransactionID  id_01     id_02  id_03  id_04  id_05  id_06  id_07  \\\n",
       "0             2987004    0.0   70787.0    NaN    NaN    NaN    NaN    NaN   \n",
       "1             2987008   -5.0   98945.0    NaN    NaN    0.0   -5.0    NaN   \n",
       "2             2987010   -5.0  191631.0    0.0    0.0    0.0    0.0    NaN   \n",
       "3             2987011   -5.0  221832.0    NaN    NaN    0.0   -6.0    NaN   \n",
       "4             2987016    0.0    7460.0    0.0    0.0    1.0    0.0    NaN   \n",
       "...               ...    ...       ...    ...    ...    ...    ...    ...   \n",
       "144228        3577521  -15.0  145955.0    0.0    0.0    0.0    0.0    NaN   \n",
       "144229        3577526   -5.0  172059.0    NaN    NaN    1.0   -5.0    NaN   \n",
       "144230        3577529  -20.0  632381.0    NaN    NaN   -1.0  -36.0    NaN   \n",
       "144231        3577531   -5.0   55528.0    0.0    0.0    0.0   -7.0    NaN   \n",
       "144232        3577534  -45.0  339406.0    NaN    NaN  -10.0 -100.0    NaN   \n",
       "\n",
       "        id_08  id_09  ...                    id_31  id_32      id_33  \\\n",
       "0         NaN    NaN  ...      samsung browser 6.2   32.0  2220x1080   \n",
       "1         NaN    NaN  ...       mobile safari 11.0   32.0   1334x750   \n",
       "2         NaN    0.0  ...              chrome 62.0    NaN        NaN   \n",
       "3         NaN    NaN  ...              chrome 62.0    NaN        NaN   \n",
       "4         NaN    0.0  ...              chrome 62.0   24.0   1280x800   \n",
       "...       ...    ...  ...                      ...    ...        ...   \n",
       "144228    NaN    0.0  ...  chrome 66.0 for android    NaN        NaN   \n",
       "144229    NaN    NaN  ...  chrome 55.0 for android   32.0    855x480   \n",
       "144230    NaN    NaN  ...  chrome 65.0 for android    NaN        NaN   \n",
       "144231    NaN    0.0  ...              chrome 66.0   24.0  2560x1600   \n",
       "144232    NaN    NaN  ...  chrome 66.0 for android    NaN        NaN   \n",
       "\n",
       "                 id_34  id_35 id_36 id_37  id_38  DeviceType  \\\n",
       "0       match_status:2      T     F     T      T      mobile   \n",
       "1       match_status:1      T     F     F      T      mobile   \n",
       "2                  NaN      F     F     T      T     desktop   \n",
       "3                  NaN      F     F     T      T     desktop   \n",
       "4       match_status:2      T     F     T      T     desktop   \n",
       "...                ...    ...   ...   ...    ...         ...   \n",
       "144228             NaN      F     F     T      F      mobile   \n",
       "144229  match_status:2      T     F     T      F      mobile   \n",
       "144230             NaN      F     F     T      F      mobile   \n",
       "144231  match_status:2      T     F     T      F     desktop   \n",
       "144232             NaN      F     F     T      F      mobile   \n",
       "\n",
       "                                DeviceInfo  \n",
       "0            SAMSUNG SM-G892A Build/NRD90M  \n",
       "1                               iOS Device  \n",
       "2                                  Windows  \n",
       "3                                      NaN  \n",
       "4                                    MacOS  \n",
       "...                                    ...  \n",
       "144228             F3111 Build/33.3.A.1.97  \n",
       "144229                 A574BL Build/NMF26F  \n",
       "144230  Moto E (4) Plus Build/NMA26.42-152  \n",
       "144231                               MacOS  \n",
       "144232         RNE-L03 Build/HUAWEIRNE-L03  \n",
       "\n",
       "[144233 rows x 41 columns]"
      ]
     },
     "execution_count": 3,
     "metadata": {},
     "output_type": "execute_result"
    }
   ],
   "source": [
    "#Windows\n",
    "#identity_data = pd.read_csv(\"C:/Users/cncluser/Downloads/ieee-fraud-detection/train_identity.csv\", header=0)\n",
    "#macOS\n",
    "identity_data = pd.read_csv(\"/Users/nami/Downloads/ieee-fraud-detection/train_identity.csv\", header=0)\n",
    "\n",
    "identity_data"
   ]
  },
  {
   "cell_type": "code",
   "execution_count": 4,
   "metadata": {
    "scrolled": true
   },
   "outputs": [
    {
     "data": {
      "text/html": [
       "<div>\n",
       "<style scoped>\n",
       "    .dataframe tbody tr th:only-of-type {\n",
       "        vertical-align: middle;\n",
       "    }\n",
       "\n",
       "    .dataframe tbody tr th {\n",
       "        vertical-align: top;\n",
       "    }\n",
       "\n",
       "    .dataframe thead th {\n",
       "        text-align: right;\n",
       "    }\n",
       "</style>\n",
       "<table border=\"1\" class=\"dataframe\">\n",
       "  <thead>\n",
       "    <tr style=\"text-align: right;\">\n",
       "      <th></th>\n",
       "      <th>isFraud</th>\n",
       "      <th>TransactionDT</th>\n",
       "      <th>TransactionAmt</th>\n",
       "      <th>ProductCD</th>\n",
       "      <th>card1</th>\n",
       "      <th>card2</th>\n",
       "      <th>card3</th>\n",
       "      <th>card4</th>\n",
       "      <th>card5</th>\n",
       "      <th>card6</th>\n",
       "      <th>...</th>\n",
       "      <th>id_31</th>\n",
       "      <th>id_32</th>\n",
       "      <th>id_33</th>\n",
       "      <th>id_34</th>\n",
       "      <th>id_35</th>\n",
       "      <th>id_36</th>\n",
       "      <th>id_37</th>\n",
       "      <th>id_38</th>\n",
       "      <th>DeviceType</th>\n",
       "      <th>DeviceInfo</th>\n",
       "    </tr>\n",
       "    <tr>\n",
       "      <th>TransactionID</th>\n",
       "      <th></th>\n",
       "      <th></th>\n",
       "      <th></th>\n",
       "      <th></th>\n",
       "      <th></th>\n",
       "      <th></th>\n",
       "      <th></th>\n",
       "      <th></th>\n",
       "      <th></th>\n",
       "      <th></th>\n",
       "      <th></th>\n",
       "      <th></th>\n",
       "      <th></th>\n",
       "      <th></th>\n",
       "      <th></th>\n",
       "      <th></th>\n",
       "      <th></th>\n",
       "      <th></th>\n",
       "      <th></th>\n",
       "      <th></th>\n",
       "      <th></th>\n",
       "    </tr>\n",
       "  </thead>\n",
       "  <tbody>\n",
       "    <tr>\n",
       "      <th>2987000</th>\n",
       "      <td>0</td>\n",
       "      <td>86400</td>\n",
       "      <td>68.50</td>\n",
       "      <td>W</td>\n",
       "      <td>13926</td>\n",
       "      <td>NaN</td>\n",
       "      <td>150.0</td>\n",
       "      <td>discover</td>\n",
       "      <td>142.0</td>\n",
       "      <td>credit</td>\n",
       "      <td>...</td>\n",
       "      <td>NaN</td>\n",
       "      <td>NaN</td>\n",
       "      <td>NaN</td>\n",
       "      <td>NaN</td>\n",
       "      <td>NaN</td>\n",
       "      <td>NaN</td>\n",
       "      <td>NaN</td>\n",
       "      <td>NaN</td>\n",
       "      <td>NaN</td>\n",
       "      <td>NaN</td>\n",
       "    </tr>\n",
       "    <tr>\n",
       "      <th>2987001</th>\n",
       "      <td>0</td>\n",
       "      <td>86401</td>\n",
       "      <td>29.00</td>\n",
       "      <td>W</td>\n",
       "      <td>2755</td>\n",
       "      <td>404.0</td>\n",
       "      <td>150.0</td>\n",
       "      <td>mastercard</td>\n",
       "      <td>102.0</td>\n",
       "      <td>credit</td>\n",
       "      <td>...</td>\n",
       "      <td>NaN</td>\n",
       "      <td>NaN</td>\n",
       "      <td>NaN</td>\n",
       "      <td>NaN</td>\n",
       "      <td>NaN</td>\n",
       "      <td>NaN</td>\n",
       "      <td>NaN</td>\n",
       "      <td>NaN</td>\n",
       "      <td>NaN</td>\n",
       "      <td>NaN</td>\n",
       "    </tr>\n",
       "    <tr>\n",
       "      <th>2987002</th>\n",
       "      <td>0</td>\n",
       "      <td>86469</td>\n",
       "      <td>59.00</td>\n",
       "      <td>W</td>\n",
       "      <td>4663</td>\n",
       "      <td>490.0</td>\n",
       "      <td>150.0</td>\n",
       "      <td>visa</td>\n",
       "      <td>166.0</td>\n",
       "      <td>debit</td>\n",
       "      <td>...</td>\n",
       "      <td>NaN</td>\n",
       "      <td>NaN</td>\n",
       "      <td>NaN</td>\n",
       "      <td>NaN</td>\n",
       "      <td>NaN</td>\n",
       "      <td>NaN</td>\n",
       "      <td>NaN</td>\n",
       "      <td>NaN</td>\n",
       "      <td>NaN</td>\n",
       "      <td>NaN</td>\n",
       "    </tr>\n",
       "    <tr>\n",
       "      <th>2987003</th>\n",
       "      <td>0</td>\n",
       "      <td>86499</td>\n",
       "      <td>50.00</td>\n",
       "      <td>W</td>\n",
       "      <td>18132</td>\n",
       "      <td>567.0</td>\n",
       "      <td>150.0</td>\n",
       "      <td>mastercard</td>\n",
       "      <td>117.0</td>\n",
       "      <td>debit</td>\n",
       "      <td>...</td>\n",
       "      <td>NaN</td>\n",
       "      <td>NaN</td>\n",
       "      <td>NaN</td>\n",
       "      <td>NaN</td>\n",
       "      <td>NaN</td>\n",
       "      <td>NaN</td>\n",
       "      <td>NaN</td>\n",
       "      <td>NaN</td>\n",
       "      <td>NaN</td>\n",
       "      <td>NaN</td>\n",
       "    </tr>\n",
       "    <tr>\n",
       "      <th>2987004</th>\n",
       "      <td>0</td>\n",
       "      <td>86506</td>\n",
       "      <td>50.00</td>\n",
       "      <td>H</td>\n",
       "      <td>4497</td>\n",
       "      <td>514.0</td>\n",
       "      <td>150.0</td>\n",
       "      <td>mastercard</td>\n",
       "      <td>102.0</td>\n",
       "      <td>credit</td>\n",
       "      <td>...</td>\n",
       "      <td>samsung browser 6.2</td>\n",
       "      <td>32.0</td>\n",
       "      <td>2220x1080</td>\n",
       "      <td>match_status:2</td>\n",
       "      <td>T</td>\n",
       "      <td>F</td>\n",
       "      <td>T</td>\n",
       "      <td>T</td>\n",
       "      <td>mobile</td>\n",
       "      <td>SAMSUNG SM-G892A Build/NRD90M</td>\n",
       "    </tr>\n",
       "    <tr>\n",
       "      <th>...</th>\n",
       "      <td>...</td>\n",
       "      <td>...</td>\n",
       "      <td>...</td>\n",
       "      <td>...</td>\n",
       "      <td>...</td>\n",
       "      <td>...</td>\n",
       "      <td>...</td>\n",
       "      <td>...</td>\n",
       "      <td>...</td>\n",
       "      <td>...</td>\n",
       "      <td>...</td>\n",
       "      <td>...</td>\n",
       "      <td>...</td>\n",
       "      <td>...</td>\n",
       "      <td>...</td>\n",
       "      <td>...</td>\n",
       "      <td>...</td>\n",
       "      <td>...</td>\n",
       "      <td>...</td>\n",
       "      <td>...</td>\n",
       "      <td>...</td>\n",
       "    </tr>\n",
       "    <tr>\n",
       "      <th>3577535</th>\n",
       "      <td>0</td>\n",
       "      <td>15811047</td>\n",
       "      <td>49.00</td>\n",
       "      <td>W</td>\n",
       "      <td>6550</td>\n",
       "      <td>NaN</td>\n",
       "      <td>150.0</td>\n",
       "      <td>visa</td>\n",
       "      <td>226.0</td>\n",
       "      <td>debit</td>\n",
       "      <td>...</td>\n",
       "      <td>NaN</td>\n",
       "      <td>NaN</td>\n",
       "      <td>NaN</td>\n",
       "      <td>NaN</td>\n",
       "      <td>NaN</td>\n",
       "      <td>NaN</td>\n",
       "      <td>NaN</td>\n",
       "      <td>NaN</td>\n",
       "      <td>NaN</td>\n",
       "      <td>NaN</td>\n",
       "    </tr>\n",
       "    <tr>\n",
       "      <th>3577536</th>\n",
       "      <td>0</td>\n",
       "      <td>15811049</td>\n",
       "      <td>39.50</td>\n",
       "      <td>W</td>\n",
       "      <td>10444</td>\n",
       "      <td>225.0</td>\n",
       "      <td>150.0</td>\n",
       "      <td>mastercard</td>\n",
       "      <td>224.0</td>\n",
       "      <td>debit</td>\n",
       "      <td>...</td>\n",
       "      <td>NaN</td>\n",
       "      <td>NaN</td>\n",
       "      <td>NaN</td>\n",
       "      <td>NaN</td>\n",
       "      <td>NaN</td>\n",
       "      <td>NaN</td>\n",
       "      <td>NaN</td>\n",
       "      <td>NaN</td>\n",
       "      <td>NaN</td>\n",
       "      <td>NaN</td>\n",
       "    </tr>\n",
       "    <tr>\n",
       "      <th>3577537</th>\n",
       "      <td>0</td>\n",
       "      <td>15811079</td>\n",
       "      <td>30.95</td>\n",
       "      <td>W</td>\n",
       "      <td>12037</td>\n",
       "      <td>595.0</td>\n",
       "      <td>150.0</td>\n",
       "      <td>mastercard</td>\n",
       "      <td>224.0</td>\n",
       "      <td>debit</td>\n",
       "      <td>...</td>\n",
       "      <td>NaN</td>\n",
       "      <td>NaN</td>\n",
       "      <td>NaN</td>\n",
       "      <td>NaN</td>\n",
       "      <td>NaN</td>\n",
       "      <td>NaN</td>\n",
       "      <td>NaN</td>\n",
       "      <td>NaN</td>\n",
       "      <td>NaN</td>\n",
       "      <td>NaN</td>\n",
       "    </tr>\n",
       "    <tr>\n",
       "      <th>3577538</th>\n",
       "      <td>0</td>\n",
       "      <td>15811088</td>\n",
       "      <td>117.00</td>\n",
       "      <td>W</td>\n",
       "      <td>7826</td>\n",
       "      <td>481.0</td>\n",
       "      <td>150.0</td>\n",
       "      <td>mastercard</td>\n",
       "      <td>224.0</td>\n",
       "      <td>debit</td>\n",
       "      <td>...</td>\n",
       "      <td>NaN</td>\n",
       "      <td>NaN</td>\n",
       "      <td>NaN</td>\n",
       "      <td>NaN</td>\n",
       "      <td>NaN</td>\n",
       "      <td>NaN</td>\n",
       "      <td>NaN</td>\n",
       "      <td>NaN</td>\n",
       "      <td>NaN</td>\n",
       "      <td>NaN</td>\n",
       "    </tr>\n",
       "    <tr>\n",
       "      <th>3577539</th>\n",
       "      <td>0</td>\n",
       "      <td>15811131</td>\n",
       "      <td>279.95</td>\n",
       "      <td>W</td>\n",
       "      <td>15066</td>\n",
       "      <td>170.0</td>\n",
       "      <td>150.0</td>\n",
       "      <td>mastercard</td>\n",
       "      <td>102.0</td>\n",
       "      <td>credit</td>\n",
       "      <td>...</td>\n",
       "      <td>NaN</td>\n",
       "      <td>NaN</td>\n",
       "      <td>NaN</td>\n",
       "      <td>NaN</td>\n",
       "      <td>NaN</td>\n",
       "      <td>NaN</td>\n",
       "      <td>NaN</td>\n",
       "      <td>NaN</td>\n",
       "      <td>NaN</td>\n",
       "      <td>NaN</td>\n",
       "    </tr>\n",
       "  </tbody>\n",
       "</table>\n",
       "<p>590540 rows × 433 columns</p>\n",
       "</div>"
      ],
      "text/plain": [
       "               isFraud  TransactionDT  TransactionAmt ProductCD  card1  card2  \\\n",
       "TransactionID                                                                   \n",
       "2987000              0          86400           68.50         W  13926    NaN   \n",
       "2987001              0          86401           29.00         W   2755  404.0   \n",
       "2987002              0          86469           59.00         W   4663  490.0   \n",
       "2987003              0          86499           50.00         W  18132  567.0   \n",
       "2987004              0          86506           50.00         H   4497  514.0   \n",
       "...                ...            ...             ...       ...    ...    ...   \n",
       "3577535              0       15811047           49.00         W   6550    NaN   \n",
       "3577536              0       15811049           39.50         W  10444  225.0   \n",
       "3577537              0       15811079           30.95         W  12037  595.0   \n",
       "3577538              0       15811088          117.00         W   7826  481.0   \n",
       "3577539              0       15811131          279.95         W  15066  170.0   \n",
       "\n",
       "               card3       card4  card5   card6  ...                id_31  \\\n",
       "TransactionID                                    ...                        \n",
       "2987000        150.0    discover  142.0  credit  ...                  NaN   \n",
       "2987001        150.0  mastercard  102.0  credit  ...                  NaN   \n",
       "2987002        150.0        visa  166.0   debit  ...                  NaN   \n",
       "2987003        150.0  mastercard  117.0   debit  ...                  NaN   \n",
       "2987004        150.0  mastercard  102.0  credit  ...  samsung browser 6.2   \n",
       "...              ...         ...    ...     ...  ...                  ...   \n",
       "3577535        150.0        visa  226.0   debit  ...                  NaN   \n",
       "3577536        150.0  mastercard  224.0   debit  ...                  NaN   \n",
       "3577537        150.0  mastercard  224.0   debit  ...                  NaN   \n",
       "3577538        150.0  mastercard  224.0   debit  ...                  NaN   \n",
       "3577539        150.0  mastercard  102.0  credit  ...                  NaN   \n",
       "\n",
       "               id_32      id_33           id_34 id_35 id_36  id_37  id_38  \\\n",
       "TransactionID                                                               \n",
       "2987000          NaN        NaN             NaN   NaN   NaN    NaN    NaN   \n",
       "2987001          NaN        NaN             NaN   NaN   NaN    NaN    NaN   \n",
       "2987002          NaN        NaN             NaN   NaN   NaN    NaN    NaN   \n",
       "2987003          NaN        NaN             NaN   NaN   NaN    NaN    NaN   \n",
       "2987004         32.0  2220x1080  match_status:2     T     F      T      T   \n",
       "...              ...        ...             ...   ...   ...    ...    ...   \n",
       "3577535          NaN        NaN             NaN   NaN   NaN    NaN    NaN   \n",
       "3577536          NaN        NaN             NaN   NaN   NaN    NaN    NaN   \n",
       "3577537          NaN        NaN             NaN   NaN   NaN    NaN    NaN   \n",
       "3577538          NaN        NaN             NaN   NaN   NaN    NaN    NaN   \n",
       "3577539          NaN        NaN             NaN   NaN   NaN    NaN    NaN   \n",
       "\n",
       "               DeviceType                     DeviceInfo  \n",
       "TransactionID                                             \n",
       "2987000               NaN                            NaN  \n",
       "2987001               NaN                            NaN  \n",
       "2987002               NaN                            NaN  \n",
       "2987003               NaN                            NaN  \n",
       "2987004            mobile  SAMSUNG SM-G892A Build/NRD90M  \n",
       "...                   ...                            ...  \n",
       "3577535               NaN                            NaN  \n",
       "3577536               NaN                            NaN  \n",
       "3577537               NaN                            NaN  \n",
       "3577538               NaN                            NaN  \n",
       "3577539               NaN                            NaN  \n",
       "\n",
       "[590540 rows x 433 columns]"
      ]
     },
     "execution_count": 4,
     "metadata": {},
     "output_type": "execute_result"
    }
   ],
   "source": [
    "data = transaction_data.set_index('TransactionID').join(identity_data.set_index('TransactionID'))\n",
    "data"
   ]
  },
  {
   "cell_type": "markdown",
   "metadata": {},
   "source": [
    "### Pre-processing\n",
    "\"isFraud\" = 0 -> normal, \"isFraud\" = 1 -> anomaly. "
   ]
  },
  {
   "cell_type": "markdown",
   "metadata": {},
   "source": [
    "Next, the categorical variables are converted to a one hot encoding representation. My implementation is a bit different from the original paper in this aspect. Since I am only using the 10% subset to generate the columns, I get 118 features instead of 120 as reported in the paper."
   ]
  },
  {
   "cell_type": "code",
   "execution_count": 5,
   "metadata": {},
   "outputs": [],
   "source": [
    "one_hot_ProductCD = pd.get_dummies(data[\"ProductCD\"])\n",
    "one_hot_card4 = pd.get_dummies(data[\"card4\"])\n",
    "one_hot_card6 = pd.get_dummies(data[\"card6\"])\n",
    "one_hot_Pemaildomain = pd.get_dummies(data[\"P_emaildomain\"])\n",
    "one_hot_Remaildomain = pd.get_dummies(data[\"R_emaildomain\"])\n",
    "one_hot_M1 = pd.get_dummies(data[\"M1\"])\n",
    "one_hot_M2 = pd.get_dummies(data[\"M2\"])\n",
    "one_hot_M3 = pd.get_dummies(data[\"M3\"])\n",
    "one_hot_M4 = pd.get_dummies(data[\"M4\"])\n",
    "one_hot_M5 = pd.get_dummies(data[\"M5\"])\n",
    "one_hot_M6 = pd.get_dummies(data[\"M6\"])\n",
    "one_hot_M7 = pd.get_dummies(data[\"M7\"])\n",
    "one_hot_M8 = pd.get_dummies(data[\"M8\"])\n",
    "one_hot_M9 = pd.get_dummies(data[\"M9\"])\n",
    "one_hot_id12 = pd.get_dummies(data[\"id_12\"])\n",
    "one_hot_id15 = pd.get_dummies(data[\"id_15\"])\n",
    "one_hot_id16 = pd.get_dummies(data[\"id_16\"])\n",
    "one_hot_id23 = pd.get_dummies(data[\"id_23\"])\n",
    "one_hot_id27 = pd.get_dummies(data[\"id_27\"])\n",
    "one_hot_id28 = pd.get_dummies(data[\"id_28\"])\n",
    "one_hot_id29 = pd.get_dummies(data[\"id_29\"])\n",
    "one_hot_id30 = pd.get_dummies(data[\"id_30\"])\n",
    "one_hot_id31 = pd.get_dummies(data[\"id_31\"])\n",
    "one_hot_id33 = pd.get_dummies(data[\"id_33\"])\n",
    "one_hot_id34 = pd.get_dummies(data[\"id_34\"])\n",
    "one_hot_id35 = pd.get_dummies(data[\"id_35\"])\n",
    "one_hot_id36 = pd.get_dummies(data[\"id_36\"])\n",
    "one_hot_id37 = pd.get_dummies(data[\"id_37\"])\n",
    "one_hot_id38 = pd.get_dummies(data[\"id_38\"])\n",
    "one_hot_DeviceType = pd.get_dummies(data[\"DeviceType\"])\n",
    "one_hot_DeviceInfo = pd.get_dummies(data[\"DeviceInfo\"])"
   ]
  },
  {
   "cell_type": "code",
   "execution_count": 6,
   "metadata": {},
   "outputs": [],
   "source": [
    "data = data.drop(\"ProductCD\",axis=1)\n",
    "data = data.drop(\"card4\",axis=1)\n",
    "data = data.drop(\"card6\",axis=1)\n",
    "data = data.drop(\"P_emaildomain\",axis=1)\n",
    "data = data.drop(\"R_emaildomain\",axis=1)\n",
    "data = data.drop(\"M1\",axis=1)\n",
    "data = data.drop(\"M2\",axis=1)\n",
    "data = data.drop(\"M3\",axis=1)\n",
    "data = data.drop(\"M4\",axis=1)\n",
    "data = data.drop(\"M5\",axis=1)\n",
    "data = data.drop(\"M6\",axis=1)\n",
    "data = data.drop(\"M7\",axis=1)\n",
    "data = data.drop(\"M8\",axis=1)\n",
    "data = data.drop(\"M9\",axis=1)\n",
    "data = data.drop(\"id_12\",axis=1)\n",
    "data = data.drop(\"id_15\",axis=1)\n",
    "data = data.drop(\"id_16\",axis=1)\n",
    "data = data.drop(\"id_23\",axis=1)\n",
    "data = data.drop(\"id_27\",axis=1)\n",
    "data = data.drop(\"id_28\",axis=1)\n",
    "data = data.drop(\"id_29\",axis=1)\n",
    "data = data.drop(\"id_30\",axis=1)\n",
    "data = data.drop(\"id_31\",axis=1)\n",
    "data = data.drop(\"id_33\",axis=1)\n",
    "data = data.drop(\"id_34\",axis=1)\n",
    "data = data.drop(\"id_35\",axis=1)\n",
    "data = data.drop(\"id_36\",axis=1)\n",
    "data = data.drop(\"id_37\",axis=1)\n",
    "data = data.drop(\"id_38\",axis=1)\n",
    "data = data.drop(\"DeviceType\",axis=1)\n",
    "data = data.drop(\"DeviceInfo\",axis=1)"
   ]
  },
  {
   "cell_type": "code",
   "execution_count": 7,
   "metadata": {},
   "outputs": [],
   "source": [
    "data_header = data.columns\n",
    "data_header = data_header.drop(\"isFraud\")\n",
    "#data_header"
   ]
  },
  {
   "cell_type": "code",
   "execution_count": 8,
   "metadata": {},
   "outputs": [
    {
     "data": {
      "text/html": [
       "<div>\n",
       "<style scoped>\n",
       "    .dataframe tbody tr th:only-of-type {\n",
       "        vertical-align: middle;\n",
       "    }\n",
       "\n",
       "    .dataframe tbody tr th {\n",
       "        vertical-align: top;\n",
       "    }\n",
       "\n",
       "    .dataframe thead th {\n",
       "        text-align: right;\n",
       "    }\n",
       "</style>\n",
       "<table border=\"1\" class=\"dataframe\">\n",
       "  <thead>\n",
       "    <tr style=\"text-align: right;\">\n",
       "      <th></th>\n",
       "      <th>C</th>\n",
       "      <th>H</th>\n",
       "      <th>R</th>\n",
       "      <th>S</th>\n",
       "      <th>W</th>\n",
       "      <th>american express</th>\n",
       "      <th>discover</th>\n",
       "      <th>mastercard</th>\n",
       "      <th>visa</th>\n",
       "      <th>charge card</th>\n",
       "      <th>...</th>\n",
       "      <th>id_17</th>\n",
       "      <th>id_18</th>\n",
       "      <th>id_19</th>\n",
       "      <th>id_20</th>\n",
       "      <th>id_21</th>\n",
       "      <th>id_22</th>\n",
       "      <th>id_24</th>\n",
       "      <th>id_25</th>\n",
       "      <th>id_26</th>\n",
       "      <th>id_32</th>\n",
       "    </tr>\n",
       "    <tr>\n",
       "      <th>TransactionID</th>\n",
       "      <th></th>\n",
       "      <th></th>\n",
       "      <th></th>\n",
       "      <th></th>\n",
       "      <th></th>\n",
       "      <th></th>\n",
       "      <th></th>\n",
       "      <th></th>\n",
       "      <th></th>\n",
       "      <th></th>\n",
       "      <th></th>\n",
       "      <th></th>\n",
       "      <th></th>\n",
       "      <th></th>\n",
       "      <th></th>\n",
       "      <th></th>\n",
       "      <th></th>\n",
       "      <th></th>\n",
       "      <th></th>\n",
       "      <th></th>\n",
       "      <th></th>\n",
       "    </tr>\n",
       "  </thead>\n",
       "  <tbody>\n",
       "    <tr>\n",
       "      <th>2987000</th>\n",
       "      <td>0</td>\n",
       "      <td>0</td>\n",
       "      <td>0</td>\n",
       "      <td>0</td>\n",
       "      <td>1</td>\n",
       "      <td>0</td>\n",
       "      <td>1</td>\n",
       "      <td>0</td>\n",
       "      <td>0</td>\n",
       "      <td>0</td>\n",
       "      <td>...</td>\n",
       "      <td>NaN</td>\n",
       "      <td>NaN</td>\n",
       "      <td>NaN</td>\n",
       "      <td>NaN</td>\n",
       "      <td>NaN</td>\n",
       "      <td>NaN</td>\n",
       "      <td>NaN</td>\n",
       "      <td>NaN</td>\n",
       "      <td>NaN</td>\n",
       "      <td>NaN</td>\n",
       "    </tr>\n",
       "    <tr>\n",
       "      <th>2987001</th>\n",
       "      <td>0</td>\n",
       "      <td>0</td>\n",
       "      <td>0</td>\n",
       "      <td>0</td>\n",
       "      <td>1</td>\n",
       "      <td>0</td>\n",
       "      <td>0</td>\n",
       "      <td>1</td>\n",
       "      <td>0</td>\n",
       "      <td>0</td>\n",
       "      <td>...</td>\n",
       "      <td>NaN</td>\n",
       "      <td>NaN</td>\n",
       "      <td>NaN</td>\n",
       "      <td>NaN</td>\n",
       "      <td>NaN</td>\n",
       "      <td>NaN</td>\n",
       "      <td>NaN</td>\n",
       "      <td>NaN</td>\n",
       "      <td>NaN</td>\n",
       "      <td>NaN</td>\n",
       "    </tr>\n",
       "    <tr>\n",
       "      <th>2987002</th>\n",
       "      <td>0</td>\n",
       "      <td>0</td>\n",
       "      <td>0</td>\n",
       "      <td>0</td>\n",
       "      <td>1</td>\n",
       "      <td>0</td>\n",
       "      <td>0</td>\n",
       "      <td>0</td>\n",
       "      <td>1</td>\n",
       "      <td>0</td>\n",
       "      <td>...</td>\n",
       "      <td>NaN</td>\n",
       "      <td>NaN</td>\n",
       "      <td>NaN</td>\n",
       "      <td>NaN</td>\n",
       "      <td>NaN</td>\n",
       "      <td>NaN</td>\n",
       "      <td>NaN</td>\n",
       "      <td>NaN</td>\n",
       "      <td>NaN</td>\n",
       "      <td>NaN</td>\n",
       "    </tr>\n",
       "    <tr>\n",
       "      <th>2987003</th>\n",
       "      <td>0</td>\n",
       "      <td>0</td>\n",
       "      <td>0</td>\n",
       "      <td>0</td>\n",
       "      <td>1</td>\n",
       "      <td>0</td>\n",
       "      <td>0</td>\n",
       "      <td>1</td>\n",
       "      <td>0</td>\n",
       "      <td>0</td>\n",
       "      <td>...</td>\n",
       "      <td>NaN</td>\n",
       "      <td>NaN</td>\n",
       "      <td>NaN</td>\n",
       "      <td>NaN</td>\n",
       "      <td>NaN</td>\n",
       "      <td>NaN</td>\n",
       "      <td>NaN</td>\n",
       "      <td>NaN</td>\n",
       "      <td>NaN</td>\n",
       "      <td>NaN</td>\n",
       "    </tr>\n",
       "    <tr>\n",
       "      <th>2987004</th>\n",
       "      <td>0</td>\n",
       "      <td>1</td>\n",
       "      <td>0</td>\n",
       "      <td>0</td>\n",
       "      <td>0</td>\n",
       "      <td>0</td>\n",
       "      <td>0</td>\n",
       "      <td>1</td>\n",
       "      <td>0</td>\n",
       "      <td>0</td>\n",
       "      <td>...</td>\n",
       "      <td>166.0</td>\n",
       "      <td>NaN</td>\n",
       "      <td>542.0</td>\n",
       "      <td>144.0</td>\n",
       "      <td>NaN</td>\n",
       "      <td>NaN</td>\n",
       "      <td>NaN</td>\n",
       "      <td>NaN</td>\n",
       "      <td>NaN</td>\n",
       "      <td>32.0</td>\n",
       "    </tr>\n",
       "  </tbody>\n",
       "</table>\n",
       "<p>5 rows × 2834 columns</p>\n",
       "</div>"
      ],
      "text/plain": [
       "               C  H  R  S  W  american express  discover  mastercard  visa  \\\n",
       "TransactionID                                                                \n",
       "2987000        0  0  0  0  1                 0         1           0     0   \n",
       "2987001        0  0  0  0  1                 0         0           1     0   \n",
       "2987002        0  0  0  0  1                 0         0           0     1   \n",
       "2987003        0  0  0  0  1                 0         0           1     0   \n",
       "2987004        0  1  0  0  0                 0         0           1     0   \n",
       "\n",
       "               charge card  ...  id_17  id_18  id_19  id_20  id_21  id_22  \\\n",
       "TransactionID               ...                                             \n",
       "2987000                  0  ...    NaN    NaN    NaN    NaN    NaN    NaN   \n",
       "2987001                  0  ...    NaN    NaN    NaN    NaN    NaN    NaN   \n",
       "2987002                  0  ...    NaN    NaN    NaN    NaN    NaN    NaN   \n",
       "2987003                  0  ...    NaN    NaN    NaN    NaN    NaN    NaN   \n",
       "2987004                  0  ...  166.0    NaN  542.0  144.0    NaN    NaN   \n",
       "\n",
       "               id_24  id_25  id_26  id_32  \n",
       "TransactionID                              \n",
       "2987000          NaN    NaN    NaN    NaN  \n",
       "2987001          NaN    NaN    NaN    NaN  \n",
       "2987002          NaN    NaN    NaN    NaN  \n",
       "2987003          NaN    NaN    NaN    NaN  \n",
       "2987004          NaN    NaN    NaN   32.0  \n",
       "\n",
       "[5 rows x 2834 columns]"
      ]
     },
     "execution_count": 8,
     "metadata": {},
     "output_type": "execute_result"
    }
   ],
   "source": [
    "data = pd.concat([one_hot_ProductCD, one_hot_card4, one_hot_card6, \n",
    "                  one_hot_Pemaildomain, one_hot_Remaildomain, one_hot_M1, \n",
    "                  one_hot_M2, one_hot_M3, one_hot_M4, \n",
    "                  one_hot_M5, one_hot_M6, one_hot_M7, \n",
    "                  one_hot_M8, one_hot_M9, one_hot_id12, \n",
    "                  one_hot_id15, one_hot_id16, one_hot_id23, \n",
    "                  one_hot_id27, one_hot_id28, one_hot_id29, \n",
    "                  one_hot_id30, one_hot_id31, one_hot_id33, \n",
    "                  one_hot_id34, one_hot_id35, one_hot_id36, \n",
    "                  one_hot_id37, one_hot_id38, one_hot_DeviceType, \n",
    "                  one_hot_DeviceInfo, data],axis=1)\n",
    "data.head()"
   ]
  },
  {
   "cell_type": "markdown",
   "metadata": {},
   "source": [
    "NaN -> mean"
   ]
  },
  {
   "cell_type": "code",
   "execution_count": 9,
   "metadata": {},
   "outputs": [
    {
     "name": "stderr",
     "output_type": "stream",
     "text": [
      "/usr/local/var/pyenv/versions/anaconda3-2019.10/envs/dagmm/lib/python3.7/site-packages/sklearn/utils/deprecation.py:66: DeprecationWarning: Class Imputer is deprecated; Imputer was deprecated in version 0.20 and will be removed in 0.22. Import impute.SimpleImputer from sklearn instead.\n",
      "  warnings.warn(msg, category=DeprecationWarning)\n"
     ]
    },
    {
     "data": {
      "text/html": [
       "<div>\n",
       "<style scoped>\n",
       "    .dataframe tbody tr th:only-of-type {\n",
       "        vertical-align: middle;\n",
       "    }\n",
       "\n",
       "    .dataframe tbody tr th {\n",
       "        vertical-align: top;\n",
       "    }\n",
       "\n",
       "    .dataframe thead th {\n",
       "        text-align: right;\n",
       "    }\n",
       "</style>\n",
       "<table border=\"1\" class=\"dataframe\">\n",
       "  <thead>\n",
       "    <tr style=\"text-align: right;\">\n",
       "      <th></th>\n",
       "      <th>C</th>\n",
       "      <th>H</th>\n",
       "      <th>R</th>\n",
       "      <th>S</th>\n",
       "      <th>W</th>\n",
       "      <th>american express</th>\n",
       "      <th>discover</th>\n",
       "      <th>mastercard</th>\n",
       "      <th>visa</th>\n",
       "      <th>charge card</th>\n",
       "      <th>...</th>\n",
       "      <th>id_17</th>\n",
       "      <th>id_18</th>\n",
       "      <th>id_19</th>\n",
       "      <th>id_20</th>\n",
       "      <th>id_21</th>\n",
       "      <th>id_22</th>\n",
       "      <th>id_24</th>\n",
       "      <th>id_25</th>\n",
       "      <th>id_26</th>\n",
       "      <th>id_32</th>\n",
       "    </tr>\n",
       "  </thead>\n",
       "  <tbody>\n",
       "    <tr>\n",
       "      <th>0</th>\n",
       "      <td>0.0</td>\n",
       "      <td>0.0</td>\n",
       "      <td>0.0</td>\n",
       "      <td>0.0</td>\n",
       "      <td>1.0</td>\n",
       "      <td>0.0</td>\n",
       "      <td>1.0</td>\n",
       "      <td>0.0</td>\n",
       "      <td>0.0</td>\n",
       "      <td>0.0</td>\n",
       "      <td>...</td>\n",
       "      <td>189.451377</td>\n",
       "      <td>14.237337</td>\n",
       "      <td>353.128174</td>\n",
       "      <td>403.882666</td>\n",
       "      <td>368.26982</td>\n",
       "      <td>16.002708</td>\n",
       "      <td>12.800927</td>\n",
       "      <td>329.608924</td>\n",
       "      <td>149.070308</td>\n",
       "      <td>26.508597</td>\n",
       "    </tr>\n",
       "    <tr>\n",
       "      <th>1</th>\n",
       "      <td>0.0</td>\n",
       "      <td>0.0</td>\n",
       "      <td>0.0</td>\n",
       "      <td>0.0</td>\n",
       "      <td>1.0</td>\n",
       "      <td>0.0</td>\n",
       "      <td>0.0</td>\n",
       "      <td>1.0</td>\n",
       "      <td>0.0</td>\n",
       "      <td>0.0</td>\n",
       "      <td>...</td>\n",
       "      <td>189.451377</td>\n",
       "      <td>14.237337</td>\n",
       "      <td>353.128174</td>\n",
       "      <td>403.882666</td>\n",
       "      <td>368.26982</td>\n",
       "      <td>16.002708</td>\n",
       "      <td>12.800927</td>\n",
       "      <td>329.608924</td>\n",
       "      <td>149.070308</td>\n",
       "      <td>26.508597</td>\n",
       "    </tr>\n",
       "    <tr>\n",
       "      <th>2</th>\n",
       "      <td>0.0</td>\n",
       "      <td>0.0</td>\n",
       "      <td>0.0</td>\n",
       "      <td>0.0</td>\n",
       "      <td>1.0</td>\n",
       "      <td>0.0</td>\n",
       "      <td>0.0</td>\n",
       "      <td>0.0</td>\n",
       "      <td>1.0</td>\n",
       "      <td>0.0</td>\n",
       "      <td>...</td>\n",
       "      <td>189.451377</td>\n",
       "      <td>14.237337</td>\n",
       "      <td>353.128174</td>\n",
       "      <td>403.882666</td>\n",
       "      <td>368.26982</td>\n",
       "      <td>16.002708</td>\n",
       "      <td>12.800927</td>\n",
       "      <td>329.608924</td>\n",
       "      <td>149.070308</td>\n",
       "      <td>26.508597</td>\n",
       "    </tr>\n",
       "    <tr>\n",
       "      <th>3</th>\n",
       "      <td>0.0</td>\n",
       "      <td>0.0</td>\n",
       "      <td>0.0</td>\n",
       "      <td>0.0</td>\n",
       "      <td>1.0</td>\n",
       "      <td>0.0</td>\n",
       "      <td>0.0</td>\n",
       "      <td>1.0</td>\n",
       "      <td>0.0</td>\n",
       "      <td>0.0</td>\n",
       "      <td>...</td>\n",
       "      <td>189.451377</td>\n",
       "      <td>14.237337</td>\n",
       "      <td>353.128174</td>\n",
       "      <td>403.882666</td>\n",
       "      <td>368.26982</td>\n",
       "      <td>16.002708</td>\n",
       "      <td>12.800927</td>\n",
       "      <td>329.608924</td>\n",
       "      <td>149.070308</td>\n",
       "      <td>26.508597</td>\n",
       "    </tr>\n",
       "    <tr>\n",
       "      <th>4</th>\n",
       "      <td>0.0</td>\n",
       "      <td>1.0</td>\n",
       "      <td>0.0</td>\n",
       "      <td>0.0</td>\n",
       "      <td>0.0</td>\n",
       "      <td>0.0</td>\n",
       "      <td>0.0</td>\n",
       "      <td>1.0</td>\n",
       "      <td>0.0</td>\n",
       "      <td>0.0</td>\n",
       "      <td>...</td>\n",
       "      <td>166.000000</td>\n",
       "      <td>14.237337</td>\n",
       "      <td>542.000000</td>\n",
       "      <td>144.000000</td>\n",
       "      <td>368.26982</td>\n",
       "      <td>16.002708</td>\n",
       "      <td>12.800927</td>\n",
       "      <td>329.608924</td>\n",
       "      <td>149.070308</td>\n",
       "      <td>32.000000</td>\n",
       "    </tr>\n",
       "  </tbody>\n",
       "</table>\n",
       "<p>5 rows × 2834 columns</p>\n",
       "</div>"
      ],
      "text/plain": [
       "     C    H    R    S    W  american express  discover  mastercard  visa  \\\n",
       "0  0.0  0.0  0.0  0.0  1.0               0.0       1.0         0.0   0.0   \n",
       "1  0.0  0.0  0.0  0.0  1.0               0.0       0.0         1.0   0.0   \n",
       "2  0.0  0.0  0.0  0.0  1.0               0.0       0.0         0.0   1.0   \n",
       "3  0.0  0.0  0.0  0.0  1.0               0.0       0.0         1.0   0.0   \n",
       "4  0.0  1.0  0.0  0.0  0.0               0.0       0.0         1.0   0.0   \n",
       "\n",
       "   charge card  ...       id_17      id_18       id_19       id_20      id_21  \\\n",
       "0          0.0  ...  189.451377  14.237337  353.128174  403.882666  368.26982   \n",
       "1          0.0  ...  189.451377  14.237337  353.128174  403.882666  368.26982   \n",
       "2          0.0  ...  189.451377  14.237337  353.128174  403.882666  368.26982   \n",
       "3          0.0  ...  189.451377  14.237337  353.128174  403.882666  368.26982   \n",
       "4          0.0  ...  166.000000  14.237337  542.000000  144.000000  368.26982   \n",
       "\n",
       "       id_22      id_24       id_25       id_26      id_32  \n",
       "0  16.002708  12.800927  329.608924  149.070308  26.508597  \n",
       "1  16.002708  12.800927  329.608924  149.070308  26.508597  \n",
       "2  16.002708  12.800927  329.608924  149.070308  26.508597  \n",
       "3  16.002708  12.800927  329.608924  149.070308  26.508597  \n",
       "4  16.002708  12.800927  329.608924  149.070308  32.000000  \n",
       "\n",
       "[5 rows x 2834 columns]"
      ]
     },
     "execution_count": 9,
     "metadata": {},
     "output_type": "execute_result"
    }
   ],
   "source": [
    "new_data = pd.DataFrame((Imputer(missing_values='NaN', strategy='mean').fit(data)).transform(data), columns=data.columns)\n",
    "new_data.head()"
   ]
  },
  {
   "cell_type": "code",
   "execution_count": 10,
   "metadata": {},
   "outputs": [],
   "source": [
    "#new_data.loc[:,\"SAMSUNG SM-G892A Build/NRD90M\"]"
   ]
  },
  {
   "cell_type": "code",
   "execution_count": 11,
   "metadata": {
    "scrolled": false
   },
   "outputs": [
    {
     "name": "stdout",
     "output_type": "stream",
     "text": [
      "0.0    569877\n",
      "1.0     20663\n",
      "Name: isFraud, dtype: int64\n",
      "Anomaly Percentage 0.03499000914417313\n"
     ]
    }
   ],
   "source": [
    "proportions = new_data[\"isFraud\"].value_counts()\n",
    "print(proportions)\n",
    "print(\"Anomaly Percentage\",proportions[1] / proportions.sum())"
   ]
  },
  {
   "cell_type": "code",
   "execution_count": 12,
   "metadata": {},
   "outputs": [],
   "source": [
    "#proportions_alfa = new_data[\"isFraud\"].value_counts(normalize=True)\n",
    "#print(proportions_alfa)"
   ]
  },
  {
   "cell_type": "markdown",
   "metadata": {},
   "source": [
    "Normalize all the numeric variables."
   ]
  },
  {
   "cell_type": "code",
   "execution_count": 13,
   "metadata": {},
   "outputs": [
    {
     "name": "stdout",
     "output_type": "stream",
     "text": [
      "Index(['TransactionDT', 'TransactionAmt', 'card1', 'card2', 'card3', 'card5',\n",
      "       'addr1', 'addr2', 'dist1', 'dist2',\n",
      "       ...\n",
      "       'id_17', 'id_18', 'id_19', 'id_20', 'id_21', 'id_22', 'id_24', 'id_25',\n",
      "       'id_26', 'id_32'],\n",
      "      dtype='object', length=401)\n"
     ]
    }
   ],
   "source": [
    "cols_to_norm = data_header\n",
    "print(cols_to_norm)\n",
    "\n",
    "#new_data.loc[:, cols_to_norm] = (new_data[cols_to_norm] - new_data[cols_to_norm].mean()) / new_data[cols_to_norm].std()\n",
    "min_cols = new_data.loc[new_data[\"isFraud\"]==0 , cols_to_norm].min()\n",
    "max_cols = new_data.loc[new_data[\"isFraud\"]==0 , cols_to_norm].max()\n",
    "\n",
    "new_data.loc[:, cols_to_norm] = (new_data[cols_to_norm] - min_cols) / (max_cols - min_cols)"
   ]
  },
  {
   "cell_type": "code",
   "execution_count": 14,
   "metadata": {},
   "outputs": [
    {
     "name": "stdout",
     "output_type": "stream",
     "text": [
      "TransactionDT     86400.000\n",
      "TransactionAmt        0.251\n",
      "card1              1000.000\n",
      "card2               100.000\n",
      "card3               100.000\n",
      "                    ...    \n",
      "id_22                10.000\n",
      "id_24                11.000\n",
      "id_25               100.000\n",
      "id_26               100.000\n",
      "id_32                 0.000\n",
      "Length: 401, dtype: float64\n",
      "TransactionDT     1.581113e+07\n",
      "TransactionAmt    3.193739e+04\n",
      "card1             1.839600e+04\n",
      "card2             6.000000e+02\n",
      "card3             2.310000e+02\n",
      "                      ...     \n",
      "id_22             4.400000e+01\n",
      "id_24             2.600000e+01\n",
      "id_25             5.480000e+02\n",
      "id_26             2.160000e+02\n",
      "id_32             3.200000e+01\n",
      "Length: 401, dtype: float64\n"
     ]
    },
    {
     "data": {
      "text/html": [
       "<div>\n",
       "<style scoped>\n",
       "    .dataframe tbody tr th:only-of-type {\n",
       "        vertical-align: middle;\n",
       "    }\n",
       "\n",
       "    .dataframe tbody tr th {\n",
       "        vertical-align: top;\n",
       "    }\n",
       "\n",
       "    .dataframe thead th {\n",
       "        text-align: right;\n",
       "    }\n",
       "</style>\n",
       "<table border=\"1\" class=\"dataframe\">\n",
       "  <thead>\n",
       "    <tr style=\"text-align: right;\">\n",
       "      <th></th>\n",
       "      <th>C</th>\n",
       "      <th>H</th>\n",
       "      <th>R</th>\n",
       "      <th>S</th>\n",
       "      <th>W</th>\n",
       "      <th>american express</th>\n",
       "      <th>discover</th>\n",
       "      <th>mastercard</th>\n",
       "      <th>visa</th>\n",
       "      <th>charge card</th>\n",
       "      <th>...</th>\n",
       "      <th>id_17</th>\n",
       "      <th>id_18</th>\n",
       "      <th>id_19</th>\n",
       "      <th>id_20</th>\n",
       "      <th>id_21</th>\n",
       "      <th>id_22</th>\n",
       "      <th>id_24</th>\n",
       "      <th>id_25</th>\n",
       "      <th>id_26</th>\n",
       "      <th>id_32</th>\n",
       "    </tr>\n",
       "  </thead>\n",
       "  <tbody>\n",
       "    <tr>\n",
       "      <th>0</th>\n",
       "      <td>0.0</td>\n",
       "      <td>0.0</td>\n",
       "      <td>0.0</td>\n",
       "      <td>0.0</td>\n",
       "      <td>1.0</td>\n",
       "      <td>0.0</td>\n",
       "      <td>1.0</td>\n",
       "      <td>0.0</td>\n",
       "      <td>0.0</td>\n",
       "      <td>0.0</td>\n",
       "      <td>...</td>\n",
       "      <td>0.693422</td>\n",
       "      <td>0.223018</td>\n",
       "      <td>0.443307</td>\n",
       "      <td>0.541680</td>\n",
       "      <td>0.355796</td>\n",
       "      <td>0.17655</td>\n",
       "      <td>0.120062</td>\n",
       "      <td>0.51252</td>\n",
       "      <td>0.42302</td>\n",
       "      <td>0.828394</td>\n",
       "    </tr>\n",
       "    <tr>\n",
       "      <th>1</th>\n",
       "      <td>0.0</td>\n",
       "      <td>0.0</td>\n",
       "      <td>0.0</td>\n",
       "      <td>0.0</td>\n",
       "      <td>1.0</td>\n",
       "      <td>0.0</td>\n",
       "      <td>0.0</td>\n",
       "      <td>1.0</td>\n",
       "      <td>0.0</td>\n",
       "      <td>0.0</td>\n",
       "      <td>...</td>\n",
       "      <td>0.693422</td>\n",
       "      <td>0.223018</td>\n",
       "      <td>0.443307</td>\n",
       "      <td>0.541680</td>\n",
       "      <td>0.355796</td>\n",
       "      <td>0.17655</td>\n",
       "      <td>0.120062</td>\n",
       "      <td>0.51252</td>\n",
       "      <td>0.42302</td>\n",
       "      <td>0.828394</td>\n",
       "    </tr>\n",
       "    <tr>\n",
       "      <th>2</th>\n",
       "      <td>0.0</td>\n",
       "      <td>0.0</td>\n",
       "      <td>0.0</td>\n",
       "      <td>0.0</td>\n",
       "      <td>1.0</td>\n",
       "      <td>0.0</td>\n",
       "      <td>0.0</td>\n",
       "      <td>0.0</td>\n",
       "      <td>1.0</td>\n",
       "      <td>0.0</td>\n",
       "      <td>...</td>\n",
       "      <td>0.693422</td>\n",
       "      <td>0.223018</td>\n",
       "      <td>0.443307</td>\n",
       "      <td>0.541680</td>\n",
       "      <td>0.355796</td>\n",
       "      <td>0.17655</td>\n",
       "      <td>0.120062</td>\n",
       "      <td>0.51252</td>\n",
       "      <td>0.42302</td>\n",
       "      <td>0.828394</td>\n",
       "    </tr>\n",
       "    <tr>\n",
       "      <th>3</th>\n",
       "      <td>0.0</td>\n",
       "      <td>0.0</td>\n",
       "      <td>0.0</td>\n",
       "      <td>0.0</td>\n",
       "      <td>1.0</td>\n",
       "      <td>0.0</td>\n",
       "      <td>0.0</td>\n",
       "      <td>1.0</td>\n",
       "      <td>0.0</td>\n",
       "      <td>0.0</td>\n",
       "      <td>...</td>\n",
       "      <td>0.693422</td>\n",
       "      <td>0.223018</td>\n",
       "      <td>0.443307</td>\n",
       "      <td>0.541680</td>\n",
       "      <td>0.355796</td>\n",
       "      <td>0.17655</td>\n",
       "      <td>0.120062</td>\n",
       "      <td>0.51252</td>\n",
       "      <td>0.42302</td>\n",
       "      <td>0.828394</td>\n",
       "    </tr>\n",
       "    <tr>\n",
       "      <th>4</th>\n",
       "      <td>0.0</td>\n",
       "      <td>1.0</td>\n",
       "      <td>0.0</td>\n",
       "      <td>0.0</td>\n",
       "      <td>0.0</td>\n",
       "      <td>0.0</td>\n",
       "      <td>0.0</td>\n",
       "      <td>1.0</td>\n",
       "      <td>0.0</td>\n",
       "      <td>0.0</td>\n",
       "      <td>...</td>\n",
       "      <td>0.511628</td>\n",
       "      <td>0.223018</td>\n",
       "      <td>0.774081</td>\n",
       "      <td>0.078431</td>\n",
       "      <td>0.355796</td>\n",
       "      <td>0.17655</td>\n",
       "      <td>0.120062</td>\n",
       "      <td>0.51252</td>\n",
       "      <td>0.42302</td>\n",
       "      <td>1.000000</td>\n",
       "    </tr>\n",
       "    <tr>\n",
       "      <th>...</th>\n",
       "      <td>...</td>\n",
       "      <td>...</td>\n",
       "      <td>...</td>\n",
       "      <td>...</td>\n",
       "      <td>...</td>\n",
       "      <td>...</td>\n",
       "      <td>...</td>\n",
       "      <td>...</td>\n",
       "      <td>...</td>\n",
       "      <td>...</td>\n",
       "      <td>...</td>\n",
       "      <td>...</td>\n",
       "      <td>...</td>\n",
       "      <td>...</td>\n",
       "      <td>...</td>\n",
       "      <td>...</td>\n",
       "      <td>...</td>\n",
       "      <td>...</td>\n",
       "      <td>...</td>\n",
       "      <td>...</td>\n",
       "      <td>...</td>\n",
       "    </tr>\n",
       "    <tr>\n",
       "      <th>590535</th>\n",
       "      <td>0.0</td>\n",
       "      <td>0.0</td>\n",
       "      <td>0.0</td>\n",
       "      <td>0.0</td>\n",
       "      <td>1.0</td>\n",
       "      <td>0.0</td>\n",
       "      <td>0.0</td>\n",
       "      <td>0.0</td>\n",
       "      <td>1.0</td>\n",
       "      <td>0.0</td>\n",
       "      <td>...</td>\n",
       "      <td>0.693422</td>\n",
       "      <td>0.223018</td>\n",
       "      <td>0.443307</td>\n",
       "      <td>0.541680</td>\n",
       "      <td>0.355796</td>\n",
       "      <td>0.17655</td>\n",
       "      <td>0.120062</td>\n",
       "      <td>0.51252</td>\n",
       "      <td>0.42302</td>\n",
       "      <td>0.828394</td>\n",
       "    </tr>\n",
       "    <tr>\n",
       "      <th>590536</th>\n",
       "      <td>0.0</td>\n",
       "      <td>0.0</td>\n",
       "      <td>0.0</td>\n",
       "      <td>0.0</td>\n",
       "      <td>1.0</td>\n",
       "      <td>0.0</td>\n",
       "      <td>0.0</td>\n",
       "      <td>1.0</td>\n",
       "      <td>0.0</td>\n",
       "      <td>0.0</td>\n",
       "      <td>...</td>\n",
       "      <td>0.693422</td>\n",
       "      <td>0.223018</td>\n",
       "      <td>0.443307</td>\n",
       "      <td>0.541680</td>\n",
       "      <td>0.355796</td>\n",
       "      <td>0.17655</td>\n",
       "      <td>0.120062</td>\n",
       "      <td>0.51252</td>\n",
       "      <td>0.42302</td>\n",
       "      <td>0.828394</td>\n",
       "    </tr>\n",
       "    <tr>\n",
       "      <th>590537</th>\n",
       "      <td>0.0</td>\n",
       "      <td>0.0</td>\n",
       "      <td>0.0</td>\n",
       "      <td>0.0</td>\n",
       "      <td>1.0</td>\n",
       "      <td>0.0</td>\n",
       "      <td>0.0</td>\n",
       "      <td>1.0</td>\n",
       "      <td>0.0</td>\n",
       "      <td>0.0</td>\n",
       "      <td>...</td>\n",
       "      <td>0.693422</td>\n",
       "      <td>0.223018</td>\n",
       "      <td>0.443307</td>\n",
       "      <td>0.541680</td>\n",
       "      <td>0.355796</td>\n",
       "      <td>0.17655</td>\n",
       "      <td>0.120062</td>\n",
       "      <td>0.51252</td>\n",
       "      <td>0.42302</td>\n",
       "      <td>0.828394</td>\n",
       "    </tr>\n",
       "    <tr>\n",
       "      <th>590538</th>\n",
       "      <td>0.0</td>\n",
       "      <td>0.0</td>\n",
       "      <td>0.0</td>\n",
       "      <td>0.0</td>\n",
       "      <td>1.0</td>\n",
       "      <td>0.0</td>\n",
       "      <td>0.0</td>\n",
       "      <td>1.0</td>\n",
       "      <td>0.0</td>\n",
       "      <td>0.0</td>\n",
       "      <td>...</td>\n",
       "      <td>0.693422</td>\n",
       "      <td>0.223018</td>\n",
       "      <td>0.443307</td>\n",
       "      <td>0.541680</td>\n",
       "      <td>0.355796</td>\n",
       "      <td>0.17655</td>\n",
       "      <td>0.120062</td>\n",
       "      <td>0.51252</td>\n",
       "      <td>0.42302</td>\n",
       "      <td>0.828394</td>\n",
       "    </tr>\n",
       "    <tr>\n",
       "      <th>590539</th>\n",
       "      <td>0.0</td>\n",
       "      <td>0.0</td>\n",
       "      <td>0.0</td>\n",
       "      <td>0.0</td>\n",
       "      <td>1.0</td>\n",
       "      <td>0.0</td>\n",
       "      <td>0.0</td>\n",
       "      <td>1.0</td>\n",
       "      <td>0.0</td>\n",
       "      <td>0.0</td>\n",
       "      <td>...</td>\n",
       "      <td>0.693422</td>\n",
       "      <td>0.223018</td>\n",
       "      <td>0.443307</td>\n",
       "      <td>0.541680</td>\n",
       "      <td>0.355796</td>\n",
       "      <td>0.17655</td>\n",
       "      <td>0.120062</td>\n",
       "      <td>0.51252</td>\n",
       "      <td>0.42302</td>\n",
       "      <td>0.828394</td>\n",
       "    </tr>\n",
       "  </tbody>\n",
       "</table>\n",
       "<p>590540 rows × 2834 columns</p>\n",
       "</div>"
      ],
      "text/plain": [
       "          C    H    R    S    W  american express  discover  mastercard  visa  \\\n",
       "0       0.0  0.0  0.0  0.0  1.0               0.0       1.0         0.0   0.0   \n",
       "1       0.0  0.0  0.0  0.0  1.0               0.0       0.0         1.0   0.0   \n",
       "2       0.0  0.0  0.0  0.0  1.0               0.0       0.0         0.0   1.0   \n",
       "3       0.0  0.0  0.0  0.0  1.0               0.0       0.0         1.0   0.0   \n",
       "4       0.0  1.0  0.0  0.0  0.0               0.0       0.0         1.0   0.0   \n",
       "...     ...  ...  ...  ...  ...               ...       ...         ...   ...   \n",
       "590535  0.0  0.0  0.0  0.0  1.0               0.0       0.0         0.0   1.0   \n",
       "590536  0.0  0.0  0.0  0.0  1.0               0.0       0.0         1.0   0.0   \n",
       "590537  0.0  0.0  0.0  0.0  1.0               0.0       0.0         1.0   0.0   \n",
       "590538  0.0  0.0  0.0  0.0  1.0               0.0       0.0         1.0   0.0   \n",
       "590539  0.0  0.0  0.0  0.0  1.0               0.0       0.0         1.0   0.0   \n",
       "\n",
       "        charge card  ...     id_17     id_18     id_19     id_20     id_21  \\\n",
       "0               0.0  ...  0.693422  0.223018  0.443307  0.541680  0.355796   \n",
       "1               0.0  ...  0.693422  0.223018  0.443307  0.541680  0.355796   \n",
       "2               0.0  ...  0.693422  0.223018  0.443307  0.541680  0.355796   \n",
       "3               0.0  ...  0.693422  0.223018  0.443307  0.541680  0.355796   \n",
       "4               0.0  ...  0.511628  0.223018  0.774081  0.078431  0.355796   \n",
       "...             ...  ...       ...       ...       ...       ...       ...   \n",
       "590535          0.0  ...  0.693422  0.223018  0.443307  0.541680  0.355796   \n",
       "590536          0.0  ...  0.693422  0.223018  0.443307  0.541680  0.355796   \n",
       "590537          0.0  ...  0.693422  0.223018  0.443307  0.541680  0.355796   \n",
       "590538          0.0  ...  0.693422  0.223018  0.443307  0.541680  0.355796   \n",
       "590539          0.0  ...  0.693422  0.223018  0.443307  0.541680  0.355796   \n",
       "\n",
       "          id_22     id_24    id_25    id_26     id_32  \n",
       "0       0.17655  0.120062  0.51252  0.42302  0.828394  \n",
       "1       0.17655  0.120062  0.51252  0.42302  0.828394  \n",
       "2       0.17655  0.120062  0.51252  0.42302  0.828394  \n",
       "3       0.17655  0.120062  0.51252  0.42302  0.828394  \n",
       "4       0.17655  0.120062  0.51252  0.42302  1.000000  \n",
       "...         ...       ...      ...      ...       ...  \n",
       "590535  0.17655  0.120062  0.51252  0.42302  0.828394  \n",
       "590536  0.17655  0.120062  0.51252  0.42302  0.828394  \n",
       "590537  0.17655  0.120062  0.51252  0.42302  0.828394  \n",
       "590538  0.17655  0.120062  0.51252  0.42302  0.828394  \n",
       "590539  0.17655  0.120062  0.51252  0.42302  0.828394  \n",
       "\n",
       "[590540 rows x 2834 columns]"
      ]
     },
     "execution_count": 14,
     "metadata": {},
     "output_type": "execute_result"
    }
   ],
   "source": [
    "print(min_cols)\n",
    "print(max_cols)\n",
    "new_data"
   ]
  },
  {
   "cell_type": "markdown",
   "metadata": {},
   "source": [
    "I saved the preprocessed data into a numpy file format and load it using the pytorch data loader."
   ]
  },
  {
   "cell_type": "code",
   "execution_count": 15,
   "metadata": {
    "scrolled": true
   },
   "outputs": [
    {
     "name": "stderr",
     "output_type": "stream",
     "text": [
      "/usr/local/var/pyenv/versions/anaconda3-2019.10/envs/dagmm/lib/python3.7/site-packages/ipykernel_launcher.py:1: FutureWarning: Method .as_matrix will be removed in a future version. Use .values instead.\n",
      "  \"\"\"Entry point for launching an IPython kernel.\n"
     ]
    }
   ],
   "source": [
    "np.savez_compressed(\"ieee_fraud\",ieee=new_data.as_matrix())"
   ]
  },
  {
   "cell_type": "markdown",
   "metadata": {},
   "source": [
    "I initially implemented this to be ran in the command line and use argparse to get the hyperparameters. To make it runnable in a jupyter notebook, I had to create a dummy class for the hyperparameters."
   ]
  },
  {
   "cell_type": "code",
   "execution_count": 16,
   "metadata": {},
   "outputs": [],
   "source": [
    "class hyperparams():\n",
    "    def __init__(self, config):\n",
    "        self.__dict__.update(**config)\n",
    "defaults = {\n",
    "    'lr' : 1e-4,\n",
    "    'num_epochs' : 200,\n",
    "    'batch_size' : 1024,\n",
    "    'gmm_k' : 4,\n",
    "    'lambda_energy' : 0.1,\n",
    "    'lambda_cov_diag' : 0.005,\n",
    "    'pretrained_model' : None,\n",
    "    'mode' : 'train',\n",
    "    'use_tensorboard' : False,\n",
    "    'data_path' : 'ieee_fraud.npz',\n",
    "\n",
    "    'log_path' : './dagmm/ieee_logs',\n",
    "    'model_save_path' : './dagmm/ieee_models',\n",
    "    'sample_path' : './dagmm/ieee_samples',\n",
    "    'test_sample_path' : './dagmm/ieee_test_samples',\n",
    "    'result_path' : './dagmm/ieee_results',\n",
    "\n",
    "    'log_step' : 194//4,\n",
    "    'sample_step' : 194,\n",
    "    'model_save_step' : 194,\n",
    "}"
   ]
  },
  {
   "cell_type": "code",
   "execution_count": 17,
   "metadata": {
    "scrolled": false
   },
   "outputs": [
    {
     "name": "stdout",
     "output_type": "stream",
     "text": [
      "data_path of getloder = ieee_fraud.npz\n",
      "data_path of loader = ieee_fraud.npz\n"
     ]
    },
    {
     "name": "stderr",
     "output_type": "stream",
     "text": [
      "\r",
      "  0%|          | 0/1 [00:00<?, ?it/s]"
     ]
    },
    {
     "name": "stdout",
     "output_type": "stream",
     "text": [
      "data_path of main : ieee_fraud.npz\n",
      "DaGMM\n",
      "DaGMM(\n",
      "  (encoder): Sequential(\n",
      "    (0): Linear(in_features=2833, out_features=1420, bias=True)\n",
      "    (1): Tanh()\n",
      "    (2): Linear(in_features=1420, out_features=710, bias=True)\n",
      "    (3): Tanh()\n",
      "    (4): Linear(in_features=710, out_features=350, bias=True)\n",
      "    (5): Tanh()\n",
      "    (6): Linear(in_features=350, out_features=170, bias=True)\n",
      "    (7): Tanh()\n",
      "    (8): Linear(in_features=170, out_features=80, bias=True)\n",
      "    (9): Tanh()\n",
      "    (10): Linear(in_features=80, out_features=40, bias=True)\n",
      "    (11): Tanh()\n",
      "    (12): Linear(in_features=40, out_features=20, bias=True)\n",
      "    (13): Tanh()\n",
      "    (14): Linear(in_features=20, out_features=10, bias=True)\n",
      "    (15): Tanh()\n",
      "    (16): Linear(in_features=10, out_features=1, bias=True)\n",
      "  )\n",
      "  (decoder): Sequential(\n",
      "    (0): Linear(in_features=1, out_features=10, bias=True)\n",
      "    (1): Tanh()\n",
      "    (2): Linear(in_features=10, out_features=20, bias=True)\n",
      "    (3): Tanh()\n",
      "    (4): Linear(in_features=20, out_features=40, bias=True)\n",
      "    (5): Tanh()\n",
      "    (6): Linear(in_features=40, out_features=80, bias=True)\n",
      "    (7): Tanh()\n",
      "    (8): Linear(in_features=80, out_features=170, bias=True)\n",
      "    (9): Tanh()\n",
      "    (10): Linear(in_features=170, out_features=350, bias=True)\n",
      "    (11): Tanh()\n",
      "    (12): Linear(in_features=350, out_features=710, bias=True)\n",
      "    (13): Tanh()\n",
      "    (14): Linear(in_features=710, out_features=1420, bias=True)\n",
      "    (15): Tanh()\n",
      "    (16): Linear(in_features=1420, out_features=2833, bias=True)\n",
      "  )\n",
      "  (estimation): Sequential(\n",
      "    (0): Linear(in_features=3, out_features=10, bias=True)\n",
      "    (1): Tanh()\n",
      "    (2): Dropout(p=0.5, inplace=False)\n",
      "    (3): Linear(in_features=10, out_features=4, bias=True)\n",
      "    (4): Softmax(dim=1)\n",
      "  )\n",
      ")\n",
      "The number of parameters: 10722258\n",
      "cuda_available\n",
      "False\n"
     ]
    },
    {
     "name": "stderr",
     "output_type": "stream",
     "text": [
      "100%|██████████| 1/1 [00:00<00:00,  2.99it/s]\n",
      "100%|██████████| 1/1 [00:00<00:00,  7.17it/s]\n",
      "  0%|          | 0/1 [00:00<?, ?it/s]/usr/local/var/pyenv/versions/anaconda3-2019.10/envs/dagmm/lib/python3.7/site-packages/numpy/linalg/linalg.py:2125: RuntimeWarning: invalid value encountered in det\n",
      "  r = _umath_linalg.det(a, signature=signature)\n"
     ]
    },
    {
     "name": "stdout",
     "output_type": "stream",
     "text": [
      "cuda_available\n",
      "False\n",
      "cuda_available\n",
      "False\n"
     ]
    },
    {
     "name": "stderr",
     "output_type": "stream",
     "text": [
      "100%|██████████| 1/1 [00:00<00:00,  6.55it/s]\n",
      "100%|██████████| 1/1 [00:00<00:00,  7.34it/s]\n",
      "  0%|          | 0/1 [00:00<?, ?it/s]"
     ]
    },
    {
     "name": "stdout",
     "output_type": "stream",
     "text": [
      "cuda_available\n",
      "False\n",
      "cuda_available\n",
      "False\n"
     ]
    },
    {
     "name": "stderr",
     "output_type": "stream",
     "text": [
      "100%|██████████| 1/1 [00:00<00:00,  7.32it/s]\n",
      "100%|██████████| 1/1 [00:00<00:00,  7.37it/s]\n",
      "  0%|          | 0/1 [00:00<?, ?it/s]"
     ]
    },
    {
     "name": "stdout",
     "output_type": "stream",
     "text": [
      "cuda_available\n",
      "False\n",
      "cuda_available\n",
      "False\n"
     ]
    },
    {
     "name": "stderr",
     "output_type": "stream",
     "text": [
      "100%|██████████| 1/1 [00:00<00:00,  7.36it/s]\n",
      "100%|██████████| 1/1 [00:00<00:00,  7.39it/s]\n",
      "  0%|          | 0/1 [00:00<?, ?it/s]"
     ]
    },
    {
     "name": "stdout",
     "output_type": "stream",
     "text": [
      "cuda_available\n",
      "False\n",
      "cuda_available\n",
      "False\n"
     ]
    },
    {
     "name": "stderr",
     "output_type": "stream",
     "text": [
      "100%|██████████| 1/1 [00:00<00:00,  7.23it/s]\n",
      "100%|██████████| 1/1 [00:00<00:00,  7.36it/s]\n",
      "  0%|          | 0/1 [00:00<?, ?it/s]"
     ]
    },
    {
     "name": "stdout",
     "output_type": "stream",
     "text": [
      "cuda_available\n",
      "False\n",
      "cuda_available\n",
      "False\n"
     ]
    },
    {
     "name": "stderr",
     "output_type": "stream",
     "text": [
      "100%|██████████| 1/1 [00:00<00:00,  7.39it/s]\n",
      "100%|██████████| 1/1 [00:00<00:00,  7.42it/s]\n",
      "  0%|          | 0/1 [00:00<?, ?it/s]"
     ]
    },
    {
     "name": "stdout",
     "output_type": "stream",
     "text": [
      "cuda_available\n",
      "False\n",
      "cuda_available\n",
      "False\n"
     ]
    },
    {
     "name": "stderr",
     "output_type": "stream",
     "text": [
      "100%|██████████| 1/1 [00:00<00:00,  7.29it/s]\n",
      "100%|██████████| 1/1 [00:00<00:00,  7.15it/s]\n",
      "  0%|          | 0/1 [00:00<?, ?it/s]"
     ]
    },
    {
     "name": "stdout",
     "output_type": "stream",
     "text": [
      "cuda_available\n",
      "False\n",
      "cuda_available\n",
      "False\n"
     ]
    },
    {
     "name": "stderr",
     "output_type": "stream",
     "text": [
      "100%|██████████| 1/1 [00:00<00:00,  7.21it/s]\n",
      "100%|██████████| 1/1 [00:00<00:00,  7.02it/s]\n",
      "  0%|          | 0/1 [00:00<?, ?it/s]"
     ]
    },
    {
     "name": "stdout",
     "output_type": "stream",
     "text": [
      "cuda_available\n",
      "False\n",
      "cuda_available\n",
      "False\n"
     ]
    },
    {
     "name": "stderr",
     "output_type": "stream",
     "text": [
      "100%|██████████| 1/1 [00:00<00:00,  7.09it/s]\n",
      "100%|██████████| 1/1 [00:00<00:00,  7.07it/s]\n",
      "  0%|          | 0/1 [00:00<?, ?it/s]"
     ]
    },
    {
     "name": "stdout",
     "output_type": "stream",
     "text": [
      "cuda_available\n",
      "False\n",
      "cuda_available\n",
      "False\n"
     ]
    },
    {
     "name": "stderr",
     "output_type": "stream",
     "text": [
      "100%|██████████| 1/1 [00:00<00:00,  7.29it/s]\n",
      "100%|██████████| 1/1 [00:00<00:00,  7.28it/s]\n",
      "  0%|          | 0/1 [00:00<?, ?it/s]"
     ]
    },
    {
     "name": "stdout",
     "output_type": "stream",
     "text": [
      "cuda_available\n",
      "False\n",
      "cuda_available\n",
      "False\n"
     ]
    },
    {
     "name": "stderr",
     "output_type": "stream",
     "text": [
      "100%|██████████| 1/1 [00:00<00:00,  7.37it/s]\n",
      "100%|██████████| 1/1 [00:00<00:00,  7.30it/s]\n",
      "  0%|          | 0/1 [00:00<?, ?it/s]"
     ]
    },
    {
     "name": "stdout",
     "output_type": "stream",
     "text": [
      "cuda_available\n",
      "False\n",
      "cuda_available\n",
      "False\n"
     ]
    },
    {
     "name": "stderr",
     "output_type": "stream",
     "text": [
      "100%|██████████| 1/1 [00:00<00:00,  7.15it/s]\n",
      "100%|██████████| 1/1 [00:00<00:00,  7.16it/s]\n",
      "  0%|          | 0/1 [00:00<?, ?it/s]"
     ]
    },
    {
     "name": "stdout",
     "output_type": "stream",
     "text": [
      "cuda_available\n",
      "False\n",
      "cuda_available\n",
      "False\n"
     ]
    },
    {
     "name": "stderr",
     "output_type": "stream",
     "text": [
      "100%|██████████| 1/1 [00:00<00:00,  7.26it/s]\n",
      "100%|██████████| 1/1 [00:00<00:00,  7.24it/s]\n",
      "  0%|          | 0/1 [00:00<?, ?it/s]"
     ]
    },
    {
     "name": "stdout",
     "output_type": "stream",
     "text": [
      "cuda_available\n",
      "False\n",
      "cuda_available\n",
      "False\n"
     ]
    },
    {
     "name": "stderr",
     "output_type": "stream",
     "text": [
      "100%|██████████| 1/1 [00:00<00:00,  7.24it/s]\n",
      "100%|██████████| 1/1 [00:00<00:00,  7.25it/s]\n",
      "  0%|          | 0/1 [00:00<?, ?it/s]"
     ]
    },
    {
     "name": "stdout",
     "output_type": "stream",
     "text": [
      "cuda_available\n",
      "False\n",
      "cuda_available\n",
      "False\n"
     ]
    },
    {
     "name": "stderr",
     "output_type": "stream",
     "text": [
      "100%|██████████| 1/1 [00:00<00:00,  7.29it/s]\n",
      "100%|██████████| 1/1 [00:00<00:00,  7.18it/s]\n",
      "  0%|          | 0/1 [00:00<?, ?it/s]"
     ]
    },
    {
     "name": "stdout",
     "output_type": "stream",
     "text": [
      "cuda_available\n",
      "False\n",
      "cuda_available\n",
      "False\n"
     ]
    },
    {
     "name": "stderr",
     "output_type": "stream",
     "text": [
      "100%|██████████| 1/1 [00:00<00:00,  7.20it/s]\n",
      "100%|██████████| 1/1 [00:00<00:00,  7.29it/s]\n",
      "  0%|          | 0/1 [00:00<?, ?it/s]"
     ]
    },
    {
     "name": "stdout",
     "output_type": "stream",
     "text": [
      "cuda_available\n",
      "False\n",
      "cuda_available\n",
      "False\n"
     ]
    },
    {
     "name": "stderr",
     "output_type": "stream",
     "text": [
      "100%|██████████| 1/1 [00:00<00:00,  7.14it/s]\n",
      "100%|██████████| 1/1 [00:00<00:00,  7.13it/s]\n",
      "  0%|          | 0/1 [00:00<?, ?it/s]"
     ]
    },
    {
     "name": "stdout",
     "output_type": "stream",
     "text": [
      "cuda_available\n",
      "False\n",
      "cuda_available\n",
      "False\n"
     ]
    },
    {
     "name": "stderr",
     "output_type": "stream",
     "text": [
      "100%|██████████| 1/1 [00:00<00:00,  7.14it/s]\n",
      "100%|██████████| 1/1 [00:00<00:00,  7.14it/s]\n",
      "  0%|          | 0/1 [00:00<?, ?it/s]"
     ]
    },
    {
     "name": "stdout",
     "output_type": "stream",
     "text": [
      "cuda_available\n",
      "False\n",
      "cuda_available\n",
      "False\n"
     ]
    },
    {
     "name": "stderr",
     "output_type": "stream",
     "text": [
      "100%|██████████| 1/1 [00:00<00:00,  6.91it/s]\n",
      "100%|██████████| 1/1 [00:00<00:00,  7.06it/s]\n",
      "  0%|          | 0/1 [00:00<?, ?it/s]"
     ]
    },
    {
     "name": "stdout",
     "output_type": "stream",
     "text": [
      "cuda_available\n",
      "False\n",
      "cuda_available\n",
      "False\n"
     ]
    },
    {
     "name": "stderr",
     "output_type": "stream",
     "text": [
      "100%|██████████| 1/1 [00:00<00:00,  7.17it/s]\n",
      "100%|██████████| 1/1 [00:00<00:00,  6.95it/s]\n",
      "  0%|          | 0/1 [00:00<?, ?it/s]"
     ]
    },
    {
     "name": "stdout",
     "output_type": "stream",
     "text": [
      "cuda_available\n",
      "False\n",
      "cuda_available\n",
      "False\n"
     ]
    },
    {
     "name": "stderr",
     "output_type": "stream",
     "text": [
      "100%|██████████| 1/1 [00:00<00:00,  6.83it/s]\n",
      "100%|██████████| 1/1 [00:00<00:00,  6.93it/s]\n",
      "  0%|          | 0/1 [00:00<?, ?it/s]"
     ]
    },
    {
     "name": "stdout",
     "output_type": "stream",
     "text": [
      "cuda_available\n",
      "False\n",
      "cuda_available\n",
      "False\n"
     ]
    },
    {
     "name": "stderr",
     "output_type": "stream",
     "text": [
      "100%|██████████| 1/1 [00:00<00:00,  6.59it/s]\n",
      "100%|██████████| 1/1 [00:00<00:00,  6.67it/s]\n",
      "  0%|          | 0/1 [00:00<?, ?it/s]"
     ]
    },
    {
     "name": "stdout",
     "output_type": "stream",
     "text": [
      "cuda_available\n",
      "False\n",
      "cuda_available\n",
      "False\n"
     ]
    },
    {
     "name": "stderr",
     "output_type": "stream",
     "text": [
      "100%|██████████| 1/1 [00:00<00:00,  6.54it/s]\n",
      "100%|██████████| 1/1 [00:00<00:00,  6.76it/s]\n",
      "  0%|          | 0/1 [00:00<?, ?it/s]"
     ]
    },
    {
     "name": "stdout",
     "output_type": "stream",
     "text": [
      "cuda_available\n",
      "False\n",
      "cuda_available\n",
      "False\n"
     ]
    },
    {
     "name": "stderr",
     "output_type": "stream",
     "text": [
      "100%|██████████| 1/1 [00:00<00:00,  6.62it/s]\n",
      "100%|██████████| 1/1 [00:00<00:00,  6.76it/s]\n",
      "  0%|          | 0/1 [00:00<?, ?it/s]"
     ]
    },
    {
     "name": "stdout",
     "output_type": "stream",
     "text": [
      "cuda_available\n",
      "False\n",
      "cuda_available\n",
      "False\n"
     ]
    },
    {
     "name": "stderr",
     "output_type": "stream",
     "text": [
      "100%|██████████| 1/1 [00:00<00:00,  6.68it/s]\n",
      "100%|██████████| 1/1 [00:00<00:00,  6.52it/s]\n",
      "  0%|          | 0/1 [00:00<?, ?it/s]"
     ]
    },
    {
     "name": "stdout",
     "output_type": "stream",
     "text": [
      "cuda_available\n",
      "False\n",
      "cuda_available\n",
      "False\n"
     ]
    },
    {
     "name": "stderr",
     "output_type": "stream",
     "text": [
      "100%|██████████| 1/1 [00:00<00:00,  6.14it/s]\n",
      "100%|██████████| 1/1 [00:00<00:00,  6.38it/s]\n",
      "  0%|          | 0/1 [00:00<?, ?it/s]"
     ]
    },
    {
     "name": "stdout",
     "output_type": "stream",
     "text": [
      "cuda_available\n",
      "False\n",
      "cuda_available\n",
      "False\n"
     ]
    },
    {
     "name": "stderr",
     "output_type": "stream",
     "text": [
      "100%|██████████| 1/1 [00:00<00:00,  6.48it/s]\n",
      "100%|██████████| 1/1 [00:00<00:00,  6.55it/s]\n",
      "  0%|          | 0/1 [00:00<?, ?it/s]"
     ]
    },
    {
     "name": "stdout",
     "output_type": "stream",
     "text": [
      "cuda_available\n",
      "False\n",
      "cuda_available\n",
      "False\n"
     ]
    },
    {
     "name": "stderr",
     "output_type": "stream",
     "text": [
      "100%|██████████| 1/1 [00:00<00:00,  6.49it/s]\n",
      "100%|██████████| 1/1 [00:00<00:00,  6.59it/s]\n",
      "  0%|          | 0/1 [00:00<?, ?it/s]"
     ]
    },
    {
     "name": "stdout",
     "output_type": "stream",
     "text": [
      "cuda_available\n",
      "False\n",
      "cuda_available\n",
      "False\n"
     ]
    },
    {
     "name": "stderr",
     "output_type": "stream",
     "text": [
      "100%|██████████| 1/1 [00:00<00:00,  6.70it/s]\n",
      "100%|██████████| 1/1 [00:00<00:00,  6.65it/s]\n",
      "  0%|          | 0/1 [00:00<?, ?it/s]"
     ]
    },
    {
     "name": "stdout",
     "output_type": "stream",
     "text": [
      "cuda_available\n",
      "False\n",
      "cuda_available\n",
      "False\n"
     ]
    },
    {
     "name": "stderr",
     "output_type": "stream",
     "text": [
      "100%|██████████| 1/1 [00:00<00:00,  6.67it/s]\n",
      "100%|██████████| 1/1 [00:00<00:00,  6.68it/s]\n",
      "  0%|          | 0/1 [00:00<?, ?it/s]"
     ]
    },
    {
     "name": "stdout",
     "output_type": "stream",
     "text": [
      "cuda_available\n",
      "False\n",
      "cuda_available\n",
      "False\n"
     ]
    },
    {
     "name": "stderr",
     "output_type": "stream",
     "text": [
      "100%|██████████| 1/1 [00:00<00:00,  6.44it/s]\n",
      "100%|██████████| 1/1 [00:00<00:00,  6.30it/s]\n",
      "  0%|          | 0/1 [00:00<?, ?it/s]"
     ]
    },
    {
     "name": "stdout",
     "output_type": "stream",
     "text": [
      "cuda_available\n",
      "False\n",
      "cuda_available\n",
      "False\n"
     ]
    },
    {
     "name": "stderr",
     "output_type": "stream",
     "text": [
      "100%|██████████| 1/1 [00:00<00:00,  6.45it/s]\n",
      "100%|██████████| 1/1 [00:00<00:00,  6.50it/s]\n",
      "  0%|          | 0/1 [00:00<?, ?it/s]"
     ]
    },
    {
     "name": "stdout",
     "output_type": "stream",
     "text": [
      "cuda_available\n",
      "False\n",
      "cuda_available\n",
      "False\n"
     ]
    },
    {
     "name": "stderr",
     "output_type": "stream",
     "text": [
      "100%|██████████| 1/1 [00:00<00:00,  6.51it/s]\n",
      "100%|██████████| 1/1 [00:00<00:00,  6.58it/s]\n",
      "  0%|          | 0/1 [00:00<?, ?it/s]"
     ]
    },
    {
     "name": "stdout",
     "output_type": "stream",
     "text": [
      "cuda_available\n",
      "False\n",
      "cuda_available\n",
      "False\n"
     ]
    },
    {
     "name": "stderr",
     "output_type": "stream",
     "text": [
      "100%|██████████| 1/1 [00:00<00:00,  6.73it/s]\n",
      "100%|██████████| 1/1 [00:00<00:00,  6.46it/s]\n",
      "  0%|          | 0/1 [00:00<?, ?it/s]"
     ]
    },
    {
     "name": "stdout",
     "output_type": "stream",
     "text": [
      "cuda_available\n",
      "False\n",
      "cuda_available\n",
      "False\n"
     ]
    },
    {
     "name": "stderr",
     "output_type": "stream",
     "text": [
      "100%|██████████| 1/1 [00:00<00:00,  6.52it/s]\n",
      "100%|██████████| 1/1 [00:00<00:00,  6.50it/s]\n",
      "  0%|          | 0/1 [00:00<?, ?it/s]"
     ]
    },
    {
     "name": "stdout",
     "output_type": "stream",
     "text": [
      "cuda_available\n",
      "False\n",
      "cuda_available\n",
      "False\n"
     ]
    },
    {
     "name": "stderr",
     "output_type": "stream",
     "text": [
      "100%|██████████| 1/1 [00:00<00:00,  5.26it/s]\n",
      "100%|██████████| 1/1 [00:00<00:00,  6.08it/s]\n",
      "  0%|          | 0/1 [00:00<?, ?it/s]"
     ]
    },
    {
     "name": "stdout",
     "output_type": "stream",
     "text": [
      "cuda_available\n",
      "False\n",
      "cuda_available\n",
      "False\n"
     ]
    },
    {
     "name": "stderr",
     "output_type": "stream",
     "text": [
      "100%|██████████| 1/1 [00:00<00:00,  6.52it/s]\n",
      "100%|██████████| 1/1 [00:00<00:00,  6.49it/s]\n",
      "  0%|          | 0/1 [00:00<?, ?it/s]"
     ]
    },
    {
     "name": "stdout",
     "output_type": "stream",
     "text": [
      "cuda_available\n",
      "False\n",
      "cuda_available\n",
      "False\n"
     ]
    },
    {
     "name": "stderr",
     "output_type": "stream",
     "text": [
      "100%|██████████| 1/1 [00:00<00:00,  6.31it/s]\n",
      "100%|██████████| 1/1 [00:00<00:00,  6.50it/s]\n",
      "  0%|          | 0/1 [00:00<?, ?it/s]"
     ]
    },
    {
     "name": "stdout",
     "output_type": "stream",
     "text": [
      "cuda_available\n",
      "False\n",
      "cuda_available\n",
      "False\n"
     ]
    },
    {
     "name": "stderr",
     "output_type": "stream",
     "text": [
      "100%|██████████| 1/1 [00:00<00:00,  6.86it/s]\n",
      "100%|██████████| 1/1 [00:00<00:00,  6.68it/s]\n",
      "  0%|          | 0/1 [00:00<?, ?it/s]"
     ]
    },
    {
     "name": "stdout",
     "output_type": "stream",
     "text": [
      "cuda_available\n",
      "False\n",
      "cuda_available\n",
      "False\n"
     ]
    },
    {
     "name": "stderr",
     "output_type": "stream",
     "text": [
      "100%|██████████| 1/1 [00:00<00:00,  6.63it/s]\n",
      "100%|██████████| 1/1 [00:00<00:00,  6.81it/s]\n",
      "  0%|          | 0/1 [00:00<?, ?it/s]"
     ]
    },
    {
     "name": "stdout",
     "output_type": "stream",
     "text": [
      "cuda_available\n",
      "False\n",
      "cuda_available\n",
      "False\n"
     ]
    },
    {
     "name": "stderr",
     "output_type": "stream",
     "text": [
      "100%|██████████| 1/1 [00:00<00:00,  6.60it/s]\n",
      "100%|██████████| 1/1 [00:00<00:00,  6.71it/s]\n",
      "  0%|          | 0/1 [00:00<?, ?it/s]"
     ]
    },
    {
     "name": "stdout",
     "output_type": "stream",
     "text": [
      "cuda_available\n",
      "False\n",
      "cuda_available\n",
      "False\n"
     ]
    },
    {
     "name": "stderr",
     "output_type": "stream",
     "text": [
      "100%|██████████| 1/1 [00:00<00:00,  6.76it/s]\n",
      "100%|██████████| 1/1 [00:00<00:00,  6.78it/s]\n",
      "  0%|          | 0/1 [00:00<?, ?it/s]"
     ]
    },
    {
     "name": "stdout",
     "output_type": "stream",
     "text": [
      "cuda_available\n",
      "False\n",
      "cuda_available\n",
      "False\n"
     ]
    },
    {
     "name": "stderr",
     "output_type": "stream",
     "text": [
      "100%|██████████| 1/1 [00:00<00:00,  6.51it/s]\n",
      "100%|██████████| 1/1 [00:00<00:00,  6.62it/s]\n",
      "  0%|          | 0/1 [00:00<?, ?it/s]"
     ]
    },
    {
     "name": "stdout",
     "output_type": "stream",
     "text": [
      "cuda_available\n",
      "False\n",
      "cuda_available\n",
      "False\n"
     ]
    },
    {
     "name": "stderr",
     "output_type": "stream",
     "text": [
      "100%|██████████| 1/1 [00:00<00:00,  6.65it/s]\n",
      "100%|██████████| 1/1 [00:00<00:00,  6.76it/s]\n",
      "  0%|          | 0/1 [00:00<?, ?it/s]"
     ]
    },
    {
     "name": "stdout",
     "output_type": "stream",
     "text": [
      "cuda_available\n",
      "False\n",
      "cuda_available\n",
      "False\n"
     ]
    },
    {
     "name": "stderr",
     "output_type": "stream",
     "text": [
      "100%|██████████| 1/1 [00:00<00:00,  6.49it/s]\n",
      "100%|██████████| 1/1 [00:00<00:00,  6.34it/s]\n",
      "  0%|          | 0/1 [00:00<?, ?it/s]"
     ]
    },
    {
     "name": "stdout",
     "output_type": "stream",
     "text": [
      "cuda_available\n",
      "False\n",
      "cuda_available\n",
      "False\n"
     ]
    },
    {
     "name": "stderr",
     "output_type": "stream",
     "text": [
      "100%|██████████| 1/1 [00:00<00:00,  6.66it/s]\n",
      "100%|██████████| 1/1 [00:00<00:00,  6.64it/s]\n",
      "  0%|          | 0/1 [00:00<?, ?it/s]"
     ]
    },
    {
     "name": "stdout",
     "output_type": "stream",
     "text": [
      "cuda_available\n",
      "False\n",
      "cuda_available\n",
      "False\n"
     ]
    },
    {
     "name": "stderr",
     "output_type": "stream",
     "text": [
      "100%|██████████| 1/1 [00:00<00:00,  6.26it/s]\n",
      "100%|██████████| 1/1 [00:00<00:00,  6.25it/s]\n",
      "  0%|          | 0/1 [00:00<?, ?it/s]"
     ]
    },
    {
     "name": "stdout",
     "output_type": "stream",
     "text": [
      "cuda_available\n",
      "False\n",
      "cuda_available\n",
      "False\n"
     ]
    },
    {
     "name": "stderr",
     "output_type": "stream",
     "text": [
      "100%|██████████| 1/1 [00:00<00:00,  6.50it/s]\n",
      "100%|██████████| 1/1 [00:00<00:00,  6.25it/s]\n",
      "  0%|          | 0/1 [00:00<?, ?it/s]"
     ]
    },
    {
     "name": "stdout",
     "output_type": "stream",
     "text": [
      "cuda_available\n",
      "False\n",
      "cuda_available\n",
      "False\n"
     ]
    },
    {
     "name": "stderr",
     "output_type": "stream",
     "text": [
      "100%|██████████| 1/1 [00:00<00:00,  6.20it/s]\n",
      "100%|██████████| 1/1 [00:00<00:00,  6.25it/s]\n",
      "  0%|          | 0/1 [00:00<?, ?it/s]"
     ]
    },
    {
     "name": "stdout",
     "output_type": "stream",
     "text": [
      "cuda_available\n",
      "False\n",
      "cuda_available\n",
      "False\n"
     ]
    },
    {
     "name": "stderr",
     "output_type": "stream",
     "text": [
      "100%|██████████| 1/1 [00:00<00:00,  6.28it/s]\n",
      "100%|██████████| 1/1 [00:00<00:00,  6.20it/s]\n",
      "  0%|          | 0/1 [00:00<?, ?it/s]"
     ]
    },
    {
     "name": "stdout",
     "output_type": "stream",
     "text": [
      "cuda_available\n",
      "False\n",
      "cuda_available\n",
      "False\n"
     ]
    },
    {
     "name": "stderr",
     "output_type": "stream",
     "text": [
      "100%|██████████| 1/1 [00:00<00:00,  6.11it/s]\n",
      "100%|██████████| 1/1 [00:00<00:00,  6.11it/s]\n",
      "  0%|          | 0/1 [00:00<?, ?it/s]"
     ]
    },
    {
     "name": "stdout",
     "output_type": "stream",
     "text": [
      "cuda_available\n",
      "False\n",
      "cuda_available\n",
      "False\n"
     ]
    },
    {
     "name": "stderr",
     "output_type": "stream",
     "text": [
      "100%|██████████| 1/1 [00:00<00:00,  6.16it/s]\n",
      "100%|██████████| 1/1 [00:00<00:00,  6.13it/s]\n",
      "  0%|          | 0/1 [00:00<?, ?it/s]"
     ]
    },
    {
     "name": "stdout",
     "output_type": "stream",
     "text": [
      "cuda_available\n",
      "False\n",
      "cuda_available\n",
      "False\n"
     ]
    },
    {
     "name": "stderr",
     "output_type": "stream",
     "text": [
      "100%|██████████| 1/1 [00:00<00:00,  6.02it/s]\n",
      "100%|██████████| 1/1 [00:00<00:00,  6.03it/s]\n",
      "  0%|          | 0/1 [00:00<?, ?it/s]"
     ]
    },
    {
     "name": "stdout",
     "output_type": "stream",
     "text": [
      "cuda_available\n",
      "False\n",
      "cuda_available\n",
      "False\n"
     ]
    },
    {
     "name": "stderr",
     "output_type": "stream",
     "text": [
      "100%|██████████| 1/1 [00:00<00:00,  5.94it/s]\n",
      "100%|██████████| 1/1 [00:00<00:00,  5.79it/s]\n",
      "  0%|          | 0/1 [00:00<?, ?it/s]"
     ]
    },
    {
     "name": "stdout",
     "output_type": "stream",
     "text": [
      "cuda_available\n",
      "False\n",
      "cuda_available\n",
      "False\n"
     ]
    },
    {
     "name": "stderr",
     "output_type": "stream",
     "text": [
      "100%|██████████| 1/1 [00:00<00:00,  5.59it/s]\n",
      "100%|██████████| 1/1 [00:00<00:00,  5.71it/s]\n",
      "  0%|          | 0/1 [00:00<?, ?it/s]"
     ]
    },
    {
     "name": "stdout",
     "output_type": "stream",
     "text": [
      "cuda_available\n",
      "False\n",
      "cuda_available\n",
      "False\n"
     ]
    },
    {
     "name": "stderr",
     "output_type": "stream",
     "text": [
      "100%|██████████| 1/1 [00:00<00:00,  5.73it/s]\n",
      "100%|██████████| 1/1 [00:00<00:00,  5.82it/s]\n",
      "  0%|          | 0/1 [00:00<?, ?it/s]"
     ]
    },
    {
     "name": "stdout",
     "output_type": "stream",
     "text": [
      "cuda_available\n",
      "False\n",
      "cuda_available\n",
      "False\n"
     ]
    },
    {
     "name": "stderr",
     "output_type": "stream",
     "text": [
      "100%|██████████| 1/1 [00:00<00:00,  5.81it/s]\n",
      "100%|██████████| 1/1 [00:00<00:00,  5.72it/s]\n",
      "  0%|          | 0/1 [00:00<?, ?it/s]"
     ]
    },
    {
     "name": "stdout",
     "output_type": "stream",
     "text": [
      "cuda_available\n",
      "False\n",
      "cuda_available\n",
      "False\n"
     ]
    },
    {
     "name": "stderr",
     "output_type": "stream",
     "text": [
      "100%|██████████| 1/1 [00:00<00:00,  5.73it/s]\n",
      "100%|██████████| 1/1 [00:00<00:00,  5.56it/s]\n",
      "  0%|          | 0/1 [00:00<?, ?it/s]"
     ]
    },
    {
     "name": "stdout",
     "output_type": "stream",
     "text": [
      "cuda_available\n",
      "False\n",
      "cuda_available\n",
      "False\n"
     ]
    },
    {
     "name": "stderr",
     "output_type": "stream",
     "text": [
      "100%|██████████| 1/1 [00:00<00:00,  5.33it/s]\n",
      "100%|██████████| 1/1 [00:00<00:00,  5.41it/s]\n",
      "  0%|          | 0/1 [00:00<?, ?it/s]"
     ]
    },
    {
     "name": "stdout",
     "output_type": "stream",
     "text": [
      "cuda_available\n",
      "False\n",
      "cuda_available\n",
      "False\n"
     ]
    },
    {
     "name": "stderr",
     "output_type": "stream",
     "text": [
      "100%|██████████| 1/1 [00:00<00:00,  4.02it/s]\n",
      "100%|██████████| 1/1 [00:00<00:00,  5.00it/s]"
     ]
    },
    {
     "name": "stdout",
     "output_type": "stream",
     "text": [
      "cuda_available\n",
      "False\n"
     ]
    },
    {
     "name": "stderr",
     "output_type": "stream",
     "text": [
      "\n",
      "100%|██████████| 1/1 [00:00<00:00,  5.16it/s]\n",
      "  0%|          | 0/1 [00:00<?, ?it/s]"
     ]
    },
    {
     "name": "stdout",
     "output_type": "stream",
     "text": [
      "cuda_available\n",
      "False\n",
      "cuda_available\n",
      "False\n"
     ]
    },
    {
     "name": "stderr",
     "output_type": "stream",
     "text": [
      "100%|██████████| 1/1 [00:00<00:00,  4.96it/s]\n",
      "100%|██████████| 1/1 [00:00<00:00,  5.03it/s]\n",
      "  0%|          | 0/1 [00:00<?, ?it/s]"
     ]
    },
    {
     "name": "stdout",
     "output_type": "stream",
     "text": [
      "cuda_available\n",
      "False\n",
      "cuda_available\n",
      "False\n"
     ]
    },
    {
     "name": "stderr",
     "output_type": "stream",
     "text": [
      "100%|██████████| 1/1 [00:00<00:00,  4.52it/s]\n",
      "100%|██████████| 1/1 [00:00<00:00,  5.32it/s]\n",
      "  0%|          | 0/1 [00:00<?, ?it/s]"
     ]
    },
    {
     "name": "stdout",
     "output_type": "stream",
     "text": [
      "cuda_available\n",
      "False\n",
      "cuda_available\n",
      "False\n"
     ]
    },
    {
     "name": "stderr",
     "output_type": "stream",
     "text": [
      "100%|██████████| 1/1 [00:00<00:00,  5.18it/s]\n",
      "100%|██████████| 1/1 [00:00<00:00,  5.22it/s]\n",
      "  0%|          | 0/1 [00:00<?, ?it/s]"
     ]
    },
    {
     "name": "stdout",
     "output_type": "stream",
     "text": [
      "cuda_available\n",
      "False\n",
      "cuda_available\n",
      "False\n"
     ]
    },
    {
     "name": "stderr",
     "output_type": "stream",
     "text": [
      "100%|██████████| 1/1 [00:00<00:00,  5.26it/s]\n",
      "100%|██████████| 1/1 [00:00<00:00,  5.28it/s]\n",
      "  0%|          | 0/1 [00:00<?, ?it/s]"
     ]
    },
    {
     "name": "stdout",
     "output_type": "stream",
     "text": [
      "cuda_available\n",
      "False\n",
      "cuda_available\n",
      "False\n"
     ]
    },
    {
     "name": "stderr",
     "output_type": "stream",
     "text": [
      "100%|██████████| 1/1 [00:00<00:00,  5.28it/s]\n",
      "100%|██████████| 1/1 [00:00<00:00,  5.12it/s]\n",
      "  0%|          | 0/1 [00:00<?, ?it/s]"
     ]
    },
    {
     "name": "stdout",
     "output_type": "stream",
     "text": [
      "cuda_available\n",
      "False\n",
      "cuda_available\n",
      "False\n"
     ]
    },
    {
     "name": "stderr",
     "output_type": "stream",
     "text": [
      "100%|██████████| 1/1 [00:00<00:00,  3.94it/s]\n",
      "  0%|          | 0/1 [00:00<?, ?it/s]"
     ]
    },
    {
     "name": "stdout",
     "output_type": "stream",
     "text": [
      "cuda_available\n",
      "False\n"
     ]
    },
    {
     "name": "stderr",
     "output_type": "stream",
     "text": [
      "100%|██████████| 1/1 [00:00<00:00,  4.84it/s]\n",
      "100%|██████████| 1/1 [00:00<00:00,  4.99it/s]\n",
      "  0%|          | 0/1 [00:00<?, ?it/s]"
     ]
    },
    {
     "name": "stdout",
     "output_type": "stream",
     "text": [
      "cuda_available\n",
      "False\n"
     ]
    },
    {
     "name": "stderr",
     "output_type": "stream",
     "text": [
      "100%|██████████| 1/1 [00:00<00:00,  4.99it/s]\n",
      "  0%|          | 0/1 [00:00<?, ?it/s]"
     ]
    },
    {
     "name": "stdout",
     "output_type": "stream",
     "text": [
      "cuda_available\n",
      "False\n"
     ]
    },
    {
     "name": "stderr",
     "output_type": "stream",
     "text": [
      "100%|██████████| 1/1 [00:00<00:00,  4.99it/s]\n",
      "  0%|          | 0/1 [00:00<?, ?it/s]"
     ]
    },
    {
     "name": "stdout",
     "output_type": "stream",
     "text": [
      "cuda_available\n",
      "False\n"
     ]
    },
    {
     "name": "stderr",
     "output_type": "stream",
     "text": [
      "100%|██████████| 1/1 [00:00<00:00,  5.01it/s]\n",
      "  0%|          | 0/1 [00:00<?, ?it/s]"
     ]
    },
    {
     "name": "stdout",
     "output_type": "stream",
     "text": [
      "cuda_available\n",
      "False\n"
     ]
    },
    {
     "name": "stderr",
     "output_type": "stream",
     "text": [
      "100%|██████████| 1/1 [00:00<00:00,  5.03it/s]\n",
      "  0%|          | 0/1 [00:00<?, ?it/s]"
     ]
    },
    {
     "name": "stdout",
     "output_type": "stream",
     "text": [
      "cuda_available\n",
      "False\n",
      "cuda_available"
     ]
    },
    {
     "name": "stderr",
     "output_type": "stream",
     "text": [
      "100%|██████████| 1/1 [00:00<00:00,  5.06it/s]\n",
      "  0%|          | 0/1 [00:00<?, ?it/s]"
     ]
    },
    {
     "name": "stdout",
     "output_type": "stream",
     "text": [
      "\n",
      "False\n",
      "cuda_available\n",
      "False\n"
     ]
    },
    {
     "name": "stderr",
     "output_type": "stream",
     "text": [
      "100%|██████████| 1/1 [00:00<00:00,  5.00it/s]\n",
      "100%|██████████| 1/1 [00:00<00:00,  5.07it/s]\n",
      "  0%|          | 0/1 [00:00<?, ?it/s]"
     ]
    },
    {
     "name": "stdout",
     "output_type": "stream",
     "text": [
      "cuda_available\n",
      "False\n"
     ]
    },
    {
     "name": "stderr",
     "output_type": "stream",
     "text": [
      "100%|██████████| 1/1 [00:00<00:00,  5.02it/s]\n",
      "  0%|          | 0/1 [00:00<?, ?it/s]"
     ]
    },
    {
     "name": "stdout",
     "output_type": "stream",
     "text": [
      "cuda_available\n",
      "False\n",
      "cuda_available\n",
      "False\n"
     ]
    },
    {
     "name": "stderr",
     "output_type": "stream",
     "text": [
      "100%|██████████| 1/1 [00:00<00:00,  4.47it/s]\n",
      "100%|██████████| 1/1 [00:00<00:00,  5.03it/s]\n",
      "  0%|          | 0/1 [00:00<?, ?it/s]"
     ]
    },
    {
     "name": "stdout",
     "output_type": "stream",
     "text": [
      "cuda_available\n",
      "False\n"
     ]
    },
    {
     "name": "stderr",
     "output_type": "stream",
     "text": [
      "100%|██████████| 1/1 [00:00<00:00,  4.99it/s]\n",
      "  0%|          | 0/1 [00:00<?, ?it/s]"
     ]
    },
    {
     "name": "stdout",
     "output_type": "stream",
     "text": [
      "cuda_available\n",
      "False\n",
      "cuda_available\n",
      "False\n"
     ]
    },
    {
     "name": "stderr",
     "output_type": "stream",
     "text": [
      "100%|██████████| 1/1 [00:00<00:00,  4.86it/s]\n",
      "  0%|          | 0/1 [00:00<?, ?it/s]"
     ]
    },
    {
     "name": "stdout",
     "output_type": "stream",
     "text": [
      "cuda_available\n",
      "False\n"
     ]
    },
    {
     "name": "stderr",
     "output_type": "stream",
     "text": [
      "100%|██████████| 1/1 [00:00<00:00,  4.82it/s]\n",
      "  0%|          | 0/1 [00:00<?, ?it/s]"
     ]
    },
    {
     "name": "stdout",
     "output_type": "stream",
     "text": [
      "cuda_available\n",
      "False\n"
     ]
    },
    {
     "name": "stderr",
     "output_type": "stream",
     "text": [
      "100%|██████████| 1/1 [00:00<00:00,  4.18it/s]\n",
      "  0%|          | 0/1 [00:00<?, ?it/s]"
     ]
    },
    {
     "name": "stdout",
     "output_type": "stream",
     "text": [
      "cuda_available\n",
      "False\n"
     ]
    },
    {
     "name": "stderr",
     "output_type": "stream",
     "text": [
      "100%|██████████| 1/1 [00:00<00:00,  4.86it/s]\n",
      "100%|██████████| 1/1 [00:00<00:00,  4.97it/s]"
     ]
    },
    {
     "name": "stdout",
     "output_type": "stream",
     "text": [
      "cuda_available\n",
      "False\n"
     ]
    },
    {
     "name": "stderr",
     "output_type": "stream",
     "text": [
      "100%|██████████| 1/1 [00:00<00:00,  4.94it/s]\n",
      "100%|██████████| 1/1 [00:00<00:00,  4.97it/s]"
     ]
    },
    {
     "name": "stdout",
     "output_type": "stream",
     "text": [
      "cuda_available\n",
      "False\n"
     ]
    },
    {
     "name": "stderr",
     "output_type": "stream",
     "text": [
      "100%|██████████| 1/1 [00:00<00:00,  4.92it/s]\n",
      "100%|██████████| 1/1 [00:00<00:00,  5.21it/s]\n",
      "  0%|          | 0/1 [00:00<?, ?it/s]"
     ]
    },
    {
     "name": "stdout",
     "output_type": "stream",
     "text": [
      "cuda_available\n",
      "False\n",
      "cuda_available\n",
      "False\n"
     ]
    },
    {
     "name": "stderr",
     "output_type": "stream",
     "text": [
      "100%|██████████| 1/1 [00:00<00:00,  4.91it/s]\n",
      "100%|██████████| 1/1 [00:00<00:00,  5.21it/s]\n",
      "  0%|          | 0/1 [00:00<?, ?it/s]"
     ]
    },
    {
     "name": "stdout",
     "output_type": "stream",
     "text": [
      "cuda_available\n",
      "False\n",
      "cuda_available\n",
      "False\n"
     ]
    },
    {
     "name": "stderr",
     "output_type": "stream",
     "text": [
      "100%|██████████| 1/1 [00:00<00:00,  5.03it/s]\n",
      "  0%|          | 0/1 [00:00<?, ?it/s]"
     ]
    },
    {
     "name": "stdout",
     "output_type": "stream",
     "text": [
      "cuda_available\n",
      "False\n"
     ]
    },
    {
     "name": "stderr",
     "output_type": "stream",
     "text": [
      "100%|██████████| 1/1 [00:00<00:00,  4.58it/s]\n",
      "  0%|          | 0/1 [00:00<?, ?it/s]"
     ]
    },
    {
     "name": "stdout",
     "output_type": "stream",
     "text": [
      "cuda_available\n",
      "False\n"
     ]
    },
    {
     "name": "stderr",
     "output_type": "stream",
     "text": [
      "100%|██████████| 1/1 [00:00<00:00,  4.70it/s]\n",
      "  0%|          | 0/1 [00:00<?, ?it/s]"
     ]
    },
    {
     "name": "stdout",
     "output_type": "stream",
     "text": [
      "cuda_available\n",
      "False\n"
     ]
    },
    {
     "name": "stderr",
     "output_type": "stream",
     "text": [
      "100%|██████████| 1/1 [00:00<00:00,  4.81it/s]\n",
      "  0%|          | 0/1 [00:00<?, ?it/s]"
     ]
    },
    {
     "name": "stdout",
     "output_type": "stream",
     "text": [
      "cuda_available\n",
      "False\n"
     ]
    },
    {
     "name": "stderr",
     "output_type": "stream",
     "text": [
      "100%|██████████| 1/1 [00:00<00:00,  4.58it/s]\n",
      "  0%|          | 0/1 [00:00<?, ?it/s]"
     ]
    },
    {
     "name": "stdout",
     "output_type": "stream",
     "text": [
      "cuda_available\n",
      "False\n"
     ]
    },
    {
     "name": "stderr",
     "output_type": "stream",
     "text": [
      "100%|██████████| 1/1 [00:00<00:00,  4.77it/s]\n",
      "  0%|          | 0/1 [00:00<?, ?it/s]"
     ]
    },
    {
     "name": "stdout",
     "output_type": "stream",
     "text": [
      "cuda_available\n",
      "False\n"
     ]
    },
    {
     "name": "stderr",
     "output_type": "stream",
     "text": [
      "100%|██████████| 1/1 [00:00<00:00,  4.69it/s]\n",
      "  0%|          | 0/1 [00:00<?, ?it/s]"
     ]
    },
    {
     "name": "stdout",
     "output_type": "stream",
     "text": [
      "cuda_available\n",
      "False\n"
     ]
    },
    {
     "name": "stderr",
     "output_type": "stream",
     "text": [
      "100%|██████████| 1/1 [00:00<00:00,  4.89it/s]\n",
      "100%|██████████| 1/1 [00:00<00:00,  4.96it/s]"
     ]
    },
    {
     "name": "stdout",
     "output_type": "stream",
     "text": [
      "cuda_available\n",
      "False\n"
     ]
    },
    {
     "name": "stderr",
     "output_type": "stream",
     "text": [
      "100%|██████████| 1/1 [00:00<00:00,  4.93it/s]\n",
      "  0%|          | 0/1 [00:00<?, ?it/s]"
     ]
    },
    {
     "name": "stdout",
     "output_type": "stream",
     "text": [
      "cuda_available\n",
      "False\n"
     ]
    },
    {
     "name": "stderr",
     "output_type": "stream",
     "text": [
      "100%|██████████| 1/1 [00:00<00:00,  4.87it/s]\n",
      "  0%|          | 0/1 [00:00<?, ?it/s]"
     ]
    },
    {
     "name": "stdout",
     "output_type": "stream",
     "text": [
      "cuda_available\n",
      "False\n"
     ]
    },
    {
     "name": "stderr",
     "output_type": "stream",
     "text": [
      "100%|██████████| 1/1 [00:00<00:00,  4.73it/s]\n",
      "100%|██████████| 1/1 [00:00<00:00,  5.02it/s]\n",
      "  0%|          | 0/1 [00:00<?, ?it/s]"
     ]
    },
    {
     "name": "stdout",
     "output_type": "stream",
     "text": [
      "cuda_available\n",
      "False\n",
      "cuda_available\n",
      "False\n"
     ]
    },
    {
     "name": "stderr",
     "output_type": "stream",
     "text": [
      "100%|██████████| 1/1 [00:00<00:00,  4.75it/s]\n",
      "100%|██████████| 1/1 [00:00<00:00,  4.96it/s]"
     ]
    },
    {
     "name": "stdout",
     "output_type": "stream",
     "text": [
      "cuda_available\n",
      "False\n"
     ]
    },
    {
     "name": "stderr",
     "output_type": "stream",
     "text": [
      "\n",
      "100%|██████████| 1/1 [00:00<00:00,  4.99it/s]"
     ]
    },
    {
     "name": "stdout",
     "output_type": "stream",
     "text": [
      "cuda_available\n",
      "False\n"
     ]
    },
    {
     "name": "stderr",
     "output_type": "stream",
     "text": [
      "\n",
      "100%|██████████| 1/1 [00:00<00:00,  4.95it/s]"
     ]
    },
    {
     "name": "stdout",
     "output_type": "stream",
     "text": [
      "cuda_available\n",
      "False\n"
     ]
    },
    {
     "name": "stderr",
     "output_type": "stream",
     "text": [
      "\n",
      "100%|██████████| 1/1 [00:00<00:00,  5.49it/s]\n",
      "  0%|          | 0/1 [00:00<?, ?it/s]"
     ]
    },
    {
     "name": "stdout",
     "output_type": "stream",
     "text": [
      "cuda_available\n",
      "False\n",
      "cuda_available\n",
      "False\n"
     ]
    },
    {
     "name": "stderr",
     "output_type": "stream",
     "text": [
      "100%|██████████| 1/1 [00:00<00:00,  5.51it/s]\n",
      "100%|██████████| 1/1 [00:00<00:00,  5.57it/s]\n",
      "  0%|          | 0/1 [00:00<?, ?it/s]"
     ]
    },
    {
     "name": "stdout",
     "output_type": "stream",
     "text": [
      "cuda_available\n",
      "False\n",
      "cuda_available\n",
      "False\n"
     ]
    },
    {
     "name": "stderr",
     "output_type": "stream",
     "text": [
      "100%|██████████| 1/1 [00:00<00:00,  5.64it/s]\n",
      "100%|██████████| 1/1 [00:00<00:00,  5.74it/s]\n",
      "  0%|          | 0/1 [00:00<?, ?it/s]"
     ]
    },
    {
     "name": "stdout",
     "output_type": "stream",
     "text": [
      "cuda_available\n",
      "False\n",
      "cuda_available\n",
      "False\n"
     ]
    },
    {
     "name": "stderr",
     "output_type": "stream",
     "text": [
      "100%|██████████| 1/1 [00:00<00:00,  5.75it/s]\n",
      "100%|██████████| 1/1 [00:00<00:00,  5.72it/s]\n",
      "  0%|          | 0/1 [00:00<?, ?it/s]"
     ]
    },
    {
     "name": "stdout",
     "output_type": "stream",
     "text": [
      "cuda_available\n",
      "False\n",
      "cuda_available\n",
      "False\n"
     ]
    },
    {
     "name": "stderr",
     "output_type": "stream",
     "text": [
      "100%|██████████| 1/1 [00:00<00:00,  5.88it/s]\n",
      "100%|██████████| 1/1 [00:00<00:00,  5.74it/s]\n",
      "  0%|          | 0/1 [00:00<?, ?it/s]"
     ]
    },
    {
     "name": "stdout",
     "output_type": "stream",
     "text": [
      "cuda_available\n",
      "False\n",
      "cuda_available\n",
      "False\n"
     ]
    },
    {
     "name": "stderr",
     "output_type": "stream",
     "text": [
      "100%|██████████| 1/1 [00:00<00:00,  5.73it/s]\n",
      "100%|██████████| 1/1 [00:00<00:00,  5.91it/s]\n",
      "  0%|          | 0/1 [00:00<?, ?it/s]"
     ]
    },
    {
     "name": "stdout",
     "output_type": "stream",
     "text": [
      "cuda_available\n",
      "False\n",
      "cuda_available\n",
      "False\n"
     ]
    },
    {
     "name": "stderr",
     "output_type": "stream",
     "text": [
      "100%|██████████| 1/1 [00:00<00:00,  5.83it/s]\n",
      "100%|██████████| 1/1 [00:00<00:00,  5.74it/s]\n",
      "  0%|          | 0/1 [00:00<?, ?it/s]"
     ]
    },
    {
     "name": "stdout",
     "output_type": "stream",
     "text": [
      "cuda_available\n",
      "False\n",
      "cuda_available\n",
      "False\n"
     ]
    },
    {
     "name": "stderr",
     "output_type": "stream",
     "text": [
      "100%|██████████| 1/1 [00:00<00:00,  5.76it/s]\n",
      "100%|██████████| 1/1 [00:00<00:00,  5.85it/s]\n",
      "  0%|          | 0/1 [00:00<?, ?it/s]"
     ]
    },
    {
     "name": "stdout",
     "output_type": "stream",
     "text": [
      "cuda_available\n",
      "False\n",
      "cuda_available\n",
      "False\n"
     ]
    },
    {
     "name": "stderr",
     "output_type": "stream",
     "text": [
      "100%|██████████| 1/1 [00:00<00:00,  6.15it/s]\n",
      "100%|██████████| 1/1 [00:00<00:00,  5.89it/s]\n",
      "  0%|          | 0/1 [00:00<?, ?it/s]"
     ]
    },
    {
     "name": "stdout",
     "output_type": "stream",
     "text": [
      "cuda_available\n",
      "False\n",
      "cuda_available\n",
      "False\n"
     ]
    },
    {
     "name": "stderr",
     "output_type": "stream",
     "text": [
      "100%|██████████| 1/1 [00:00<00:00,  5.96it/s]\n",
      "100%|██████████| 1/1 [00:00<00:00,  5.76it/s]\n",
      "  0%|          | 0/1 [00:00<?, ?it/s]"
     ]
    },
    {
     "name": "stdout",
     "output_type": "stream",
     "text": [
      "cuda_available\n",
      "False\n",
      "cuda_available\n",
      "False\n"
     ]
    },
    {
     "name": "stderr",
     "output_type": "stream",
     "text": [
      "100%|██████████| 1/1 [00:00<00:00,  5.78it/s]\n",
      "100%|██████████| 1/1 [00:00<00:00,  5.83it/s]\n",
      "  0%|          | 0/1 [00:00<?, ?it/s]"
     ]
    },
    {
     "name": "stdout",
     "output_type": "stream",
     "text": [
      "cuda_available\n",
      "False\n",
      "cuda_available\n",
      "False\n"
     ]
    },
    {
     "name": "stderr",
     "output_type": "stream",
     "text": [
      "100%|██████████| 1/1 [00:00<00:00,  6.01it/s]\n",
      "100%|██████████| 1/1 [00:00<00:00,  6.10it/s]\n",
      "  0%|          | 0/1 [00:00<?, ?it/s]"
     ]
    },
    {
     "name": "stdout",
     "output_type": "stream",
     "text": [
      "cuda_available\n",
      "False\n",
      "cuda_available\n",
      "False\n"
     ]
    },
    {
     "name": "stderr",
     "output_type": "stream",
     "text": [
      "100%|██████████| 1/1 [00:00<00:00,  6.04it/s]\n",
      "100%|██████████| 1/1 [00:00<00:00,  6.03it/s]\n",
      "  0%|          | 0/1 [00:00<?, ?it/s]"
     ]
    },
    {
     "name": "stdout",
     "output_type": "stream",
     "text": [
      "cuda_available\n",
      "False\n",
      "cuda_available\n",
      "False\n"
     ]
    },
    {
     "name": "stderr",
     "output_type": "stream",
     "text": [
      "100%|██████████| 1/1 [00:00<00:00,  6.22it/s]\n",
      "100%|██████████| 1/1 [00:00<00:00,  6.26it/s]\n",
      "  0%|          | 0/1 [00:00<?, ?it/s]"
     ]
    },
    {
     "name": "stdout",
     "output_type": "stream",
     "text": [
      "cuda_available\n",
      "False\n",
      "cuda_available\n",
      "False\n"
     ]
    },
    {
     "name": "stderr",
     "output_type": "stream",
     "text": [
      "100%|██████████| 1/1 [00:00<00:00,  6.23it/s]\n",
      "100%|██████████| 1/1 [00:00<00:00,  6.28it/s]\n",
      "  0%|          | 0/1 [00:00<?, ?it/s]"
     ]
    },
    {
     "name": "stdout",
     "output_type": "stream",
     "text": [
      "cuda_available\n",
      "False\n",
      "cuda_available\n",
      "False\n"
     ]
    },
    {
     "name": "stderr",
     "output_type": "stream",
     "text": [
      "100%|██████████| 1/1 [00:00<00:00,  6.16it/s]\n"
     ]
    },
    {
     "name": "stdout",
     "output_type": "stream",
     "text": [
      "======================TEST MODE======================\n",
      "cuda_available\n",
      "False\n",
      "input_data\n",
      "tensor([[0.0000, 1.0000, 0.0000,  ..., 0.1201, 0.5125, 0.4230],\n",
      "        [0.0000, 1.0000, 0.0000,  ..., 0.1201, 0.5125, 0.4230],\n",
      "        [0.0000, 0.0000, 1.0000,  ..., 0.1201, 0.5125, 0.4230]])\n",
      "enc, dec, z and gamma\n",
      "tensor([[nan],\n",
      "        [nan],\n",
      "        [nan]], grad_fn=<AddmmBackward>)\n",
      "tensor([[nan, nan, nan,  ..., nan, nan, nan],\n",
      "        [nan, nan, nan,  ..., nan, nan, nan],\n",
      "        [nan, nan, nan,  ..., nan, nan, nan]], grad_fn=<AddmmBackward>)\n",
      "tensor([[nan, nan, nan],\n",
      "        [nan, nan, nan],\n",
      "        [nan, nan, nan]], grad_fn=<CatBackward>)\n",
      "tensor([[nan, nan, nan, nan],\n",
      "        [nan, nan, nan, nan],\n",
      "        [nan, nan, nan, nan]], grad_fn=<SoftmaxBackward>)\n",
      "N: 3\n",
      "phi :\n",
      " tensor([nan, nan, nan, nan], grad_fn=<DivBackward0>)\n",
      "mu :\n",
      " tensor([[nan, nan, nan],\n",
      "        [nan, nan, nan],\n",
      "        [nan, nan, nan],\n",
      "        [nan, nan, nan]], grad_fn=<DivBackward0>)\n",
      "cov :\n",
      " tensor([[[nan, nan, nan],\n",
      "         [nan, nan, nan],\n",
      "         [nan, nan, nan]],\n",
      "\n",
      "        [[nan, nan, nan],\n",
      "         [nan, nan, nan],\n",
      "         [nan, nan, nan]],\n",
      "\n",
      "        [[nan, nan, nan],\n",
      "         [nan, nan, nan],\n",
      "         [nan, nan, nan]],\n",
      "\n",
      "        [[nan, nan, nan],\n",
      "         [nan, nan, nan],\n",
      "         [nan, nan, nan]]], grad_fn=<DivBackward0>)\n",
      "cuda_available\n",
      "False\n",
      "cuda_available\n",
      "False\n",
      "cuda_available\n",
      "False\n",
      "cuda_available\n",
      "False\n",
      "cuda_available\n",
      "False\n",
      "cuda_available\n",
      "False\n",
      "cuda_available\n",
      "False\n",
      "cuda_available\n",
      "False\n",
      "cuda_available\n",
      "False\n",
      "cuda_available\n",
      "False\n",
      "cuda_available\n",
      "False\n",
      "cuda_available\n",
      "False\n",
      "cuda_available\n",
      "False\n",
      "cuda_available\n",
      "False\n",
      "cuda_available\n",
      "False\n",
      "cuda_available\n",
      "False\n",
      "cuda_available\n",
      "False\n",
      "cuda_available\n",
      "False\n",
      "cuda_available\n",
      "False\n",
      "cuda_available\n",
      "False\n",
      "cuda_available\n",
      "False\n",
      "cuda_available\n",
      "False\n",
      "cuda_available\n",
      "False\n",
      "cuda_available\n",
      "False\n",
      "cuda_available\n",
      "False\n",
      "Threshold : nan\n",
      "Accuracy : 0.0001, Precision : 0.0000, Recall : 0.0000, F-score : 0.0000\n"
     ]
    },
    {
     "name": "stderr",
     "output_type": "stream",
     "text": [
      "/Users/nami/notebook/dagmm/solver.py:256: RuntimeWarning: invalid value encountered in greater\n",
      "  pred = (test_energy > thresh).astype(int)\n",
      "/usr/local/var/pyenv/versions/anaconda3-2019.10/envs/dagmm/lib/python3.7/site-packages/sklearn/metrics/classification.py:1437: UndefinedMetricWarning: Precision and F-score are ill-defined and being set to 0.0 due to no predicted samples.\n",
      "  'precision', 'predicted', average, warn_for)\n"
     ]
    }
   ],
   "source": [
    "solver = main(hyperparams(defaults))\n",
    "accuracy, precision, recall, f_score = solver.test()"
   ]
  },
  {
   "cell_type": "markdown",
   "metadata": {},
   "source": [
    "### I copy pasted the testing code here in the notebook so we could play around the results."
   ]
  },
  {
   "cell_type": "markdown",
   "metadata": {},
   "source": [
    "### Incrementally compute for the GMM parameters across all training data for a better estimate"
   ]
  },
  {
   "cell_type": "code",
   "execution_count": 18,
   "metadata": {},
   "outputs": [
    {
     "name": "stdout",
     "output_type": "stream",
     "text": [
      "cuda_available\n",
      "False\n",
      "N: 3\n",
      "phi :\n",
      " tensor([nan, nan, nan, nan], grad_fn=<DivBackward0>)\n",
      "mu :\n",
      " tensor([[nan, nan, nan],\n",
      "        [nan, nan, nan],\n",
      "        [nan, nan, nan],\n",
      "        [nan, nan, nan]], grad_fn=<DivBackward0>)\n",
      "cov :\n",
      " tensor([[[nan, nan, nan],\n",
      "         [nan, nan, nan],\n",
      "         [nan, nan, nan]],\n",
      "\n",
      "        [[nan, nan, nan],\n",
      "         [nan, nan, nan],\n",
      "         [nan, nan, nan]],\n",
      "\n",
      "        [[nan, nan, nan],\n",
      "         [nan, nan, nan],\n",
      "         [nan, nan, nan]],\n",
      "\n",
      "        [[nan, nan, nan],\n",
      "         [nan, nan, nan],\n",
      "         [nan, nan, nan]]], grad_fn=<DivBackward0>)\n"
     ]
    }
   ],
   "source": [
    "solver.data_loader.dataset.mode=\"train\"\n",
    "solver.dagmm.eval()\n",
    "N = 0\n",
    "mu_sum = 0\n",
    "cov_sum = 0\n",
    "gamma_sum = 0\n",
    "\n",
    "for it, (input_data, labels) in enumerate(solver.data_loader):\n",
    "    input_data = solver.to_var(input_data)\n",
    "    enc, dec, z, gamma = solver.dagmm(input_data)\n",
    "    phi, mu, cov = solver.dagmm.compute_gmm_params(z, gamma)\n",
    "    \n",
    "    batch_gamma_sum = torch.sum(gamma, dim=0)\n",
    "    \n",
    "    gamma_sum += batch_gamma_sum\n",
    "    mu_sum += mu * batch_gamma_sum.unsqueeze(-1) # keep sums of the numerator only\n",
    "    cov_sum += cov * batch_gamma_sum.unsqueeze(-1).unsqueeze(-1) # keep sums of the numerator only\n",
    "    \n",
    "    N += input_data.size(0)\n",
    "    \n",
    "train_phi = gamma_sum / N\n",
    "train_mu = mu_sum / gamma_sum.unsqueeze(-1)\n",
    "train_cov = cov_sum / gamma_sum.unsqueeze(-1).unsqueeze(-1)\n",
    "\n",
    "print(\"N:\",N)\n",
    "print(\"phi :\\n\",train_phi)\n",
    "print(\"mu :\\n\",train_mu)\n",
    "print(\"cov :\\n\",train_cov)"
   ]
  },
  {
   "cell_type": "code",
   "execution_count": 19,
   "metadata": {},
   "outputs": [
    {
     "name": "stdout",
     "output_type": "stream",
     "text": [
      "cuda_available\n",
      "False\n"
     ]
    }
   ],
   "source": [
    "train_energy = []\n",
    "train_labels = []\n",
    "train_z = []\n",
    "for it, (input_data, labels) in enumerate(solver.data_loader):\n",
    "    input_data = solver.to_var(input_data)\n",
    "    enc, dec, z, gamma = solver.dagmm(input_data)\n",
    "    sample_energy, cov_diag = solver.dagmm.compute_energy(z, phi=train_phi, mu=train_mu, cov=train_cov, size_average=False)\n",
    "    \n",
    "    train_energy.append(sample_energy.data.cpu().numpy())\n",
    "    train_z.append(z.data.cpu().numpy())\n",
    "    train_labels.append(labels.numpy())\n",
    "\n",
    "\n",
    "train_energy = np.concatenate(train_energy,axis=0)\n",
    "train_z = np.concatenate(train_z,axis=0)\n",
    "train_labels = np.concatenate(train_labels,axis=0)"
   ]
  },
  {
   "cell_type": "markdown",
   "metadata": {},
   "source": [
    "### Compute the energy of every sample in the test data"
   ]
  },
  {
   "cell_type": "code",
   "execution_count": 20,
   "metadata": {},
   "outputs": [
    {
     "name": "stdout",
     "output_type": "stream",
     "text": [
      "cuda_available\n",
      "False\n",
      "cuda_available\n",
      "False\n",
      "cuda_available\n",
      "False\n",
      "cuda_available\n",
      "False\n",
      "cuda_available\n",
      "False\n",
      "cuda_available\n",
      "False\n",
      "cuda_available\n",
      "False\n",
      "cuda_available\n",
      "False\n",
      "cuda_available\n",
      "False\n",
      "cuda_available\n",
      "False\n",
      "cuda_available\n",
      "False\n",
      "cuda_available\n",
      "False\n",
      "cuda_available\n",
      "False\n",
      "cuda_available\n",
      "False\n",
      "cuda_available\n",
      "False\n",
      "cuda_available\n",
      "False\n",
      "cuda_available\n",
      "False\n",
      "cuda_available\n",
      "False\n",
      "cuda_available\n",
      "False\n",
      "cuda_available\n",
      "False\n",
      "cuda_available\n",
      "False\n",
      "cuda_available\n",
      "False\n",
      "cuda_available\n",
      "False\n",
      "cuda_available\n",
      "False\n"
     ]
    }
   ],
   "source": [
    "solver.data_loader.dataset.mode=\"test\"\n",
    "test_energy = []\n",
    "test_labels = []\n",
    "test_z = []\n",
    "for it, (input_data, labels) in enumerate(solver.data_loader):\n",
    "    input_data = solver.to_var(input_data)\n",
    "    enc, dec, z, gamma = solver.dagmm(input_data)\n",
    "    sample_energy, cov_diag = solver.dagmm.compute_energy(z, size_average=False)\n",
    "    test_energy.append(sample_energy.data.cpu().numpy())\n",
    "    test_z.append(z.data.cpu().numpy())\n",
    "    test_labels.append(labels.numpy())\n",
    "\n",
    "\n",
    "test_energy = np.concatenate(test_energy,axis=0)\n",
    "test_z = np.concatenate(test_z,axis=0)\n",
    "test_labels = np.concatenate(test_labels,axis=0)"
   ]
  },
  {
   "cell_type": "code",
   "execution_count": 21,
   "metadata": {},
   "outputs": [],
   "source": [
    "combined_energy = np.concatenate([train_energy, test_energy], axis=0)\n",
    "combined_z = np.concatenate([train_z, test_z], axis=0)\n",
    "combined_labels = np.concatenate([train_labels, test_labels], axis=0)"
   ]
  },
  {
   "cell_type": "markdown",
   "metadata": {},
   "source": [
    "### Compute for the threshold energy. Following the paper I just get the highest 20% and treat it as an anomaly. That corresponds to setting the threshold at the 80th percentile."
   ]
  },
  {
   "cell_type": "code",
   "execution_count": 22,
   "metadata": {},
   "outputs": [
    {
     "name": "stdout",
     "output_type": "stream",
     "text": [
      "Threshold : nan\n"
     ]
    }
   ],
   "source": [
    "thresh = np.percentile(combined_energy, 100 - 20)\n",
    "print(\"Threshold :\", thresh)"
   ]
  },
  {
   "cell_type": "code",
   "execution_count": 23,
   "metadata": {},
   "outputs": [
    {
     "name": "stderr",
     "output_type": "stream",
     "text": [
      "/usr/local/var/pyenv/versions/anaconda3-2019.10/envs/dagmm/lib/python3.7/site-packages/ipykernel_launcher.py:1: RuntimeWarning: invalid value encountered in greater\n",
      "  \"\"\"Entry point for launching an IPython kernel.\n"
     ]
    }
   ],
   "source": [
    "pred = (test_energy>thresh).astype(int)\n",
    "gt = test_labels.astype(int)"
   ]
  },
  {
   "cell_type": "code",
   "execution_count": 24,
   "metadata": {},
   "outputs": [],
   "source": [
    "from sklearn.metrics import precision_recall_fscore_support as prf, accuracy_score"
   ]
  },
  {
   "cell_type": "code",
   "execution_count": 25,
   "metadata": {},
   "outputs": [],
   "source": [
    "accuracy = accuracy_score(gt,pred)\n",
    "precision, recall, f_score, support = prf(gt, pred, average='binary')"
   ]
  },
  {
   "cell_type": "code",
   "execution_count": 26,
   "metadata": {},
   "outputs": [
    {
     "name": "stdout",
     "output_type": "stream",
     "text": [
      "Accuracy : 0.0001, Precision : 0.0000, Recall : 0.0000, F-score : 0.0000\n"
     ]
    }
   ],
   "source": [
    "print(\"Accuracy : {:0.4f}, Precision : {:0.4f}, Recall : {:0.4f}, F-score : {:0.4f}\".format(accuracy,precision, recall, f_score))"
   ]
  },
  {
   "cell_type": "markdown",
   "metadata": {},
   "source": [
    "## Visualizing the z space\n",
    "It's a little different from the paper's figure but I assume that's because of the small changes in my implementation."
   ]
  },
  {
   "cell_type": "code",
   "execution_count": 27,
   "metadata": {},
   "outputs": [
    {
     "data": {
      "application/javascript": [
       "/* Put everything inside the global mpl namespace */\n",
       "window.mpl = {};\n",
       "\n",
       "\n",
       "mpl.get_websocket_type = function() {\n",
       "    if (typeof(WebSocket) !== 'undefined') {\n",
       "        return WebSocket;\n",
       "    } else if (typeof(MozWebSocket) !== 'undefined') {\n",
       "        return MozWebSocket;\n",
       "    } else {\n",
       "        alert('Your browser does not have WebSocket support. ' +\n",
       "              'Please try Chrome, Safari or Firefox ≥ 6. ' +\n",
       "              'Firefox 4 and 5 are also supported but you ' +\n",
       "              'have to enable WebSockets in about:config.');\n",
       "    };\n",
       "}\n",
       "\n",
       "mpl.figure = function(figure_id, websocket, ondownload, parent_element) {\n",
       "    this.id = figure_id;\n",
       "\n",
       "    this.ws = websocket;\n",
       "\n",
       "    this.supports_binary = (this.ws.binaryType != undefined);\n",
       "\n",
       "    if (!this.supports_binary) {\n",
       "        var warnings = document.getElementById(\"mpl-warnings\");\n",
       "        if (warnings) {\n",
       "            warnings.style.display = 'block';\n",
       "            warnings.textContent = (\n",
       "                \"This browser does not support binary websocket messages. \" +\n",
       "                    \"Performance may be slow.\");\n",
       "        }\n",
       "    }\n",
       "\n",
       "    this.imageObj = new Image();\n",
       "\n",
       "    this.context = undefined;\n",
       "    this.message = undefined;\n",
       "    this.canvas = undefined;\n",
       "    this.rubberband_canvas = undefined;\n",
       "    this.rubberband_context = undefined;\n",
       "    this.format_dropdown = undefined;\n",
       "\n",
       "    this.image_mode = 'full';\n",
       "\n",
       "    this.root = $('<div/>');\n",
       "    this._root_extra_style(this.root)\n",
       "    this.root.attr('style', 'display: inline-block');\n",
       "\n",
       "    $(parent_element).append(this.root);\n",
       "\n",
       "    this._init_header(this);\n",
       "    this._init_canvas(this);\n",
       "    this._init_toolbar(this);\n",
       "\n",
       "    var fig = this;\n",
       "\n",
       "    this.waiting = false;\n",
       "\n",
       "    this.ws.onopen =  function () {\n",
       "            fig.send_message(\"supports_binary\", {value: fig.supports_binary});\n",
       "            fig.send_message(\"send_image_mode\", {});\n",
       "            if (mpl.ratio != 1) {\n",
       "                fig.send_message(\"set_dpi_ratio\", {'dpi_ratio': mpl.ratio});\n",
       "            }\n",
       "            fig.send_message(\"refresh\", {});\n",
       "        }\n",
       "\n",
       "    this.imageObj.onload = function() {\n",
       "            if (fig.image_mode == 'full') {\n",
       "                // Full images could contain transparency (where diff images\n",
       "                // almost always do), so we need to clear the canvas so that\n",
       "                // there is no ghosting.\n",
       "                fig.context.clearRect(0, 0, fig.canvas.width, fig.canvas.height);\n",
       "            }\n",
       "            fig.context.drawImage(fig.imageObj, 0, 0);\n",
       "        };\n",
       "\n",
       "    this.imageObj.onunload = function() {\n",
       "        fig.ws.close();\n",
       "    }\n",
       "\n",
       "    this.ws.onmessage = this._make_on_message_function(this);\n",
       "\n",
       "    this.ondownload = ondownload;\n",
       "}\n",
       "\n",
       "mpl.figure.prototype._init_header = function() {\n",
       "    var titlebar = $(\n",
       "        '<div class=\"ui-dialog-titlebar ui-widget-header ui-corner-all ' +\n",
       "        'ui-helper-clearfix\"/>');\n",
       "    var titletext = $(\n",
       "        '<div class=\"ui-dialog-title\" style=\"width: 100%; ' +\n",
       "        'text-align: center; padding: 3px;\"/>');\n",
       "    titlebar.append(titletext)\n",
       "    this.root.append(titlebar);\n",
       "    this.header = titletext[0];\n",
       "}\n",
       "\n",
       "\n",
       "\n",
       "mpl.figure.prototype._canvas_extra_style = function(canvas_div) {\n",
       "\n",
       "}\n",
       "\n",
       "\n",
       "mpl.figure.prototype._root_extra_style = function(canvas_div) {\n",
       "\n",
       "}\n",
       "\n",
       "mpl.figure.prototype._init_canvas = function() {\n",
       "    var fig = this;\n",
       "\n",
       "    var canvas_div = $('<div/>');\n",
       "\n",
       "    canvas_div.attr('style', 'position: relative; clear: both; outline: 0');\n",
       "\n",
       "    function canvas_keyboard_event(event) {\n",
       "        return fig.key_event(event, event['data']);\n",
       "    }\n",
       "\n",
       "    canvas_div.keydown('key_press', canvas_keyboard_event);\n",
       "    canvas_div.keyup('key_release', canvas_keyboard_event);\n",
       "    this.canvas_div = canvas_div\n",
       "    this._canvas_extra_style(canvas_div)\n",
       "    this.root.append(canvas_div);\n",
       "\n",
       "    var canvas = $('<canvas/>');\n",
       "    canvas.addClass('mpl-canvas');\n",
       "    canvas.attr('style', \"left: 0; top: 0; z-index: 0; outline: 0\")\n",
       "\n",
       "    this.canvas = canvas[0];\n",
       "    this.context = canvas[0].getContext(\"2d\");\n",
       "\n",
       "    var backingStore = this.context.backingStorePixelRatio ||\n",
       "\tthis.context.webkitBackingStorePixelRatio ||\n",
       "\tthis.context.mozBackingStorePixelRatio ||\n",
       "\tthis.context.msBackingStorePixelRatio ||\n",
       "\tthis.context.oBackingStorePixelRatio ||\n",
       "\tthis.context.backingStorePixelRatio || 1;\n",
       "\n",
       "    mpl.ratio = (window.devicePixelRatio || 1) / backingStore;\n",
       "\n",
       "    var rubberband = $('<canvas/>');\n",
       "    rubberband.attr('style', \"position: absolute; left: 0; top: 0; z-index: 1;\")\n",
       "\n",
       "    var pass_mouse_events = true;\n",
       "\n",
       "    canvas_div.resizable({\n",
       "        start: function(event, ui) {\n",
       "            pass_mouse_events = false;\n",
       "        },\n",
       "        resize: function(event, ui) {\n",
       "            fig.request_resize(ui.size.width, ui.size.height);\n",
       "        },\n",
       "        stop: function(event, ui) {\n",
       "            pass_mouse_events = true;\n",
       "            fig.request_resize(ui.size.width, ui.size.height);\n",
       "        },\n",
       "    });\n",
       "\n",
       "    function mouse_event_fn(event) {\n",
       "        if (pass_mouse_events)\n",
       "            return fig.mouse_event(event, event['data']);\n",
       "    }\n",
       "\n",
       "    rubberband.mousedown('button_press', mouse_event_fn);\n",
       "    rubberband.mouseup('button_release', mouse_event_fn);\n",
       "    // Throttle sequential mouse events to 1 every 20ms.\n",
       "    rubberband.mousemove('motion_notify', mouse_event_fn);\n",
       "\n",
       "    rubberband.mouseenter('figure_enter', mouse_event_fn);\n",
       "    rubberband.mouseleave('figure_leave', mouse_event_fn);\n",
       "\n",
       "    canvas_div.on(\"wheel\", function (event) {\n",
       "        event = event.originalEvent;\n",
       "        event['data'] = 'scroll'\n",
       "        if (event.deltaY < 0) {\n",
       "            event.step = 1;\n",
       "        } else {\n",
       "            event.step = -1;\n",
       "        }\n",
       "        mouse_event_fn(event);\n",
       "    });\n",
       "\n",
       "    canvas_div.append(canvas);\n",
       "    canvas_div.append(rubberband);\n",
       "\n",
       "    this.rubberband = rubberband;\n",
       "    this.rubberband_canvas = rubberband[0];\n",
       "    this.rubberband_context = rubberband[0].getContext(\"2d\");\n",
       "    this.rubberband_context.strokeStyle = \"#000000\";\n",
       "\n",
       "    this._resize_canvas = function(width, height) {\n",
       "        // Keep the size of the canvas, canvas container, and rubber band\n",
       "        // canvas in synch.\n",
       "        canvas_div.css('width', width)\n",
       "        canvas_div.css('height', height)\n",
       "\n",
       "        canvas.attr('width', width * mpl.ratio);\n",
       "        canvas.attr('height', height * mpl.ratio);\n",
       "        canvas.attr('style', 'width: ' + width + 'px; height: ' + height + 'px;');\n",
       "\n",
       "        rubberband.attr('width', width);\n",
       "        rubberband.attr('height', height);\n",
       "    }\n",
       "\n",
       "    // Set the figure to an initial 600x600px, this will subsequently be updated\n",
       "    // upon first draw.\n",
       "    this._resize_canvas(600, 600);\n",
       "\n",
       "    // Disable right mouse context menu.\n",
       "    $(this.rubberband_canvas).bind(\"contextmenu\",function(e){\n",
       "        return false;\n",
       "    });\n",
       "\n",
       "    function set_focus () {\n",
       "        canvas.focus();\n",
       "        canvas_div.focus();\n",
       "    }\n",
       "\n",
       "    window.setTimeout(set_focus, 100);\n",
       "}\n",
       "\n",
       "mpl.figure.prototype._init_toolbar = function() {\n",
       "    var fig = this;\n",
       "\n",
       "    var nav_element = $('<div/>');\n",
       "    nav_element.attr('style', 'width: 100%');\n",
       "    this.root.append(nav_element);\n",
       "\n",
       "    // Define a callback function for later on.\n",
       "    function toolbar_event(event) {\n",
       "        return fig.toolbar_button_onclick(event['data']);\n",
       "    }\n",
       "    function toolbar_mouse_event(event) {\n",
       "        return fig.toolbar_button_onmouseover(event['data']);\n",
       "    }\n",
       "\n",
       "    for(var toolbar_ind in mpl.toolbar_items) {\n",
       "        var name = mpl.toolbar_items[toolbar_ind][0];\n",
       "        var tooltip = mpl.toolbar_items[toolbar_ind][1];\n",
       "        var image = mpl.toolbar_items[toolbar_ind][2];\n",
       "        var method_name = mpl.toolbar_items[toolbar_ind][3];\n",
       "\n",
       "        if (!name) {\n",
       "            // put a spacer in here.\n",
       "            continue;\n",
       "        }\n",
       "        var button = $('<button/>');\n",
       "        button.addClass('ui-button ui-widget ui-state-default ui-corner-all ' +\n",
       "                        'ui-button-icon-only');\n",
       "        button.attr('role', 'button');\n",
       "        button.attr('aria-disabled', 'false');\n",
       "        button.click(method_name, toolbar_event);\n",
       "        button.mouseover(tooltip, toolbar_mouse_event);\n",
       "\n",
       "        var icon_img = $('<span/>');\n",
       "        icon_img.addClass('ui-button-icon-primary ui-icon');\n",
       "        icon_img.addClass(image);\n",
       "        icon_img.addClass('ui-corner-all');\n",
       "\n",
       "        var tooltip_span = $('<span/>');\n",
       "        tooltip_span.addClass('ui-button-text');\n",
       "        tooltip_span.html(tooltip);\n",
       "\n",
       "        button.append(icon_img);\n",
       "        button.append(tooltip_span);\n",
       "\n",
       "        nav_element.append(button);\n",
       "    }\n",
       "\n",
       "    var fmt_picker_span = $('<span/>');\n",
       "\n",
       "    var fmt_picker = $('<select/>');\n",
       "    fmt_picker.addClass('mpl-toolbar-option ui-widget ui-widget-content');\n",
       "    fmt_picker_span.append(fmt_picker);\n",
       "    nav_element.append(fmt_picker_span);\n",
       "    this.format_dropdown = fmt_picker[0];\n",
       "\n",
       "    for (var ind in mpl.extensions) {\n",
       "        var fmt = mpl.extensions[ind];\n",
       "        var option = $(\n",
       "            '<option/>', {selected: fmt === mpl.default_extension}).html(fmt);\n",
       "        fmt_picker.append(option);\n",
       "    }\n",
       "\n",
       "    // Add hover states to the ui-buttons\n",
       "    $( \".ui-button\" ).hover(\n",
       "        function() { $(this).addClass(\"ui-state-hover\");},\n",
       "        function() { $(this).removeClass(\"ui-state-hover\");}\n",
       "    );\n",
       "\n",
       "    var status_bar = $('<span class=\"mpl-message\"/>');\n",
       "    nav_element.append(status_bar);\n",
       "    this.message = status_bar[0];\n",
       "}\n",
       "\n",
       "mpl.figure.prototype.request_resize = function(x_pixels, y_pixels) {\n",
       "    // Request matplotlib to resize the figure. Matplotlib will then trigger a resize in the client,\n",
       "    // which will in turn request a refresh of the image.\n",
       "    this.send_message('resize', {'width': x_pixels, 'height': y_pixels});\n",
       "}\n",
       "\n",
       "mpl.figure.prototype.send_message = function(type, properties) {\n",
       "    properties['type'] = type;\n",
       "    properties['figure_id'] = this.id;\n",
       "    this.ws.send(JSON.stringify(properties));\n",
       "}\n",
       "\n",
       "mpl.figure.prototype.send_draw_message = function() {\n",
       "    if (!this.waiting) {\n",
       "        this.waiting = true;\n",
       "        this.ws.send(JSON.stringify({type: \"draw\", figure_id: this.id}));\n",
       "    }\n",
       "}\n",
       "\n",
       "\n",
       "mpl.figure.prototype.handle_save = function(fig, msg) {\n",
       "    var format_dropdown = fig.format_dropdown;\n",
       "    var format = format_dropdown.options[format_dropdown.selectedIndex].value;\n",
       "    fig.ondownload(fig, format);\n",
       "}\n",
       "\n",
       "\n",
       "mpl.figure.prototype.handle_resize = function(fig, msg) {\n",
       "    var size = msg['size'];\n",
       "    if (size[0] != fig.canvas.width || size[1] != fig.canvas.height) {\n",
       "        fig._resize_canvas(size[0], size[1]);\n",
       "        fig.send_message(\"refresh\", {});\n",
       "    };\n",
       "}\n",
       "\n",
       "mpl.figure.prototype.handle_rubberband = function(fig, msg) {\n",
       "    var x0 = msg['x0'] / mpl.ratio;\n",
       "    var y0 = (fig.canvas.height - msg['y0']) / mpl.ratio;\n",
       "    var x1 = msg['x1'] / mpl.ratio;\n",
       "    var y1 = (fig.canvas.height - msg['y1']) / mpl.ratio;\n",
       "    x0 = Math.floor(x0) + 0.5;\n",
       "    y0 = Math.floor(y0) + 0.5;\n",
       "    x1 = Math.floor(x1) + 0.5;\n",
       "    y1 = Math.floor(y1) + 0.5;\n",
       "    var min_x = Math.min(x0, x1);\n",
       "    var min_y = Math.min(y0, y1);\n",
       "    var width = Math.abs(x1 - x0);\n",
       "    var height = Math.abs(y1 - y0);\n",
       "\n",
       "    fig.rubberband_context.clearRect(\n",
       "        0, 0, fig.canvas.width / mpl.ratio, fig.canvas.height / mpl.ratio);\n",
       "\n",
       "    fig.rubberband_context.strokeRect(min_x, min_y, width, height);\n",
       "}\n",
       "\n",
       "mpl.figure.prototype.handle_figure_label = function(fig, msg) {\n",
       "    // Updates the figure title.\n",
       "    fig.header.textContent = msg['label'];\n",
       "}\n",
       "\n",
       "mpl.figure.prototype.handle_cursor = function(fig, msg) {\n",
       "    var cursor = msg['cursor'];\n",
       "    switch(cursor)\n",
       "    {\n",
       "    case 0:\n",
       "        cursor = 'pointer';\n",
       "        break;\n",
       "    case 1:\n",
       "        cursor = 'default';\n",
       "        break;\n",
       "    case 2:\n",
       "        cursor = 'crosshair';\n",
       "        break;\n",
       "    case 3:\n",
       "        cursor = 'move';\n",
       "        break;\n",
       "    }\n",
       "    fig.rubberband_canvas.style.cursor = cursor;\n",
       "}\n",
       "\n",
       "mpl.figure.prototype.handle_message = function(fig, msg) {\n",
       "    fig.message.textContent = msg['message'];\n",
       "}\n",
       "\n",
       "mpl.figure.prototype.handle_draw = function(fig, msg) {\n",
       "    // Request the server to send over a new figure.\n",
       "    fig.send_draw_message();\n",
       "}\n",
       "\n",
       "mpl.figure.prototype.handle_image_mode = function(fig, msg) {\n",
       "    fig.image_mode = msg['mode'];\n",
       "}\n",
       "\n",
       "mpl.figure.prototype.updated_canvas_event = function() {\n",
       "    // Called whenever the canvas gets updated.\n",
       "    this.send_message(\"ack\", {});\n",
       "}\n",
       "\n",
       "// A function to construct a web socket function for onmessage handling.\n",
       "// Called in the figure constructor.\n",
       "mpl.figure.prototype._make_on_message_function = function(fig) {\n",
       "    return function socket_on_message(evt) {\n",
       "        if (evt.data instanceof Blob) {\n",
       "            /* FIXME: We get \"Resource interpreted as Image but\n",
       "             * transferred with MIME type text/plain:\" errors on\n",
       "             * Chrome.  But how to set the MIME type?  It doesn't seem\n",
       "             * to be part of the websocket stream */\n",
       "            evt.data.type = \"image/png\";\n",
       "\n",
       "            /* Free the memory for the previous frames */\n",
       "            if (fig.imageObj.src) {\n",
       "                (window.URL || window.webkitURL).revokeObjectURL(\n",
       "                    fig.imageObj.src);\n",
       "            }\n",
       "\n",
       "            fig.imageObj.src = (window.URL || window.webkitURL).createObjectURL(\n",
       "                evt.data);\n",
       "            fig.updated_canvas_event();\n",
       "            fig.waiting = false;\n",
       "            return;\n",
       "        }\n",
       "        else if (typeof evt.data === 'string' && evt.data.slice(0, 21) == \"data:image/png;base64\") {\n",
       "            fig.imageObj.src = evt.data;\n",
       "            fig.updated_canvas_event();\n",
       "            fig.waiting = false;\n",
       "            return;\n",
       "        }\n",
       "\n",
       "        var msg = JSON.parse(evt.data);\n",
       "        var msg_type = msg['type'];\n",
       "\n",
       "        // Call the  \"handle_{type}\" callback, which takes\n",
       "        // the figure and JSON message as its only arguments.\n",
       "        try {\n",
       "            var callback = fig[\"handle_\" + msg_type];\n",
       "        } catch (e) {\n",
       "            console.log(\"No handler for the '\" + msg_type + \"' message type: \", msg);\n",
       "            return;\n",
       "        }\n",
       "\n",
       "        if (callback) {\n",
       "            try {\n",
       "                // console.log(\"Handling '\" + msg_type + \"' message: \", msg);\n",
       "                callback(fig, msg);\n",
       "            } catch (e) {\n",
       "                console.log(\"Exception inside the 'handler_\" + msg_type + \"' callback:\", e, e.stack, msg);\n",
       "            }\n",
       "        }\n",
       "    };\n",
       "}\n",
       "\n",
       "// from http://stackoverflow.com/questions/1114465/getting-mouse-location-in-canvas\n",
       "mpl.findpos = function(e) {\n",
       "    //this section is from http://www.quirksmode.org/js/events_properties.html\n",
       "    var targ;\n",
       "    if (!e)\n",
       "        e = window.event;\n",
       "    if (e.target)\n",
       "        targ = e.target;\n",
       "    else if (e.srcElement)\n",
       "        targ = e.srcElement;\n",
       "    if (targ.nodeType == 3) // defeat Safari bug\n",
       "        targ = targ.parentNode;\n",
       "\n",
       "    // jQuery normalizes the pageX and pageY\n",
       "    // pageX,Y are the mouse positions relative to the document\n",
       "    // offset() returns the position of the element relative to the document\n",
       "    var x = e.pageX - $(targ).offset().left;\n",
       "    var y = e.pageY - $(targ).offset().top;\n",
       "\n",
       "    return {\"x\": x, \"y\": y};\n",
       "};\n",
       "\n",
       "/*\n",
       " * return a copy of an object with only non-object keys\n",
       " * we need this to avoid circular references\n",
       " * http://stackoverflow.com/a/24161582/3208463\n",
       " */\n",
       "function simpleKeys (original) {\n",
       "  return Object.keys(original).reduce(function (obj, key) {\n",
       "    if (typeof original[key] !== 'object')\n",
       "        obj[key] = original[key]\n",
       "    return obj;\n",
       "  }, {});\n",
       "}\n",
       "\n",
       "mpl.figure.prototype.mouse_event = function(event, name) {\n",
       "    var canvas_pos = mpl.findpos(event)\n",
       "\n",
       "    if (name === 'button_press')\n",
       "    {\n",
       "        this.canvas.focus();\n",
       "        this.canvas_div.focus();\n",
       "    }\n",
       "\n",
       "    var x = canvas_pos.x * mpl.ratio;\n",
       "    var y = canvas_pos.y * mpl.ratio;\n",
       "\n",
       "    this.send_message(name, {x: x, y: y, button: event.button,\n",
       "                             step: event.step,\n",
       "                             guiEvent: simpleKeys(event)});\n",
       "\n",
       "    /* This prevents the web browser from automatically changing to\n",
       "     * the text insertion cursor when the button is pressed.  We want\n",
       "     * to control all of the cursor setting manually through the\n",
       "     * 'cursor' event from matplotlib */\n",
       "    event.preventDefault();\n",
       "    return false;\n",
       "}\n",
       "\n",
       "mpl.figure.prototype._key_event_extra = function(event, name) {\n",
       "    // Handle any extra behaviour associated with a key event\n",
       "}\n",
       "\n",
       "mpl.figure.prototype.key_event = function(event, name) {\n",
       "\n",
       "    // Prevent repeat events\n",
       "    if (name == 'key_press')\n",
       "    {\n",
       "        if (event.which === this._key)\n",
       "            return;\n",
       "        else\n",
       "            this._key = event.which;\n",
       "    }\n",
       "    if (name == 'key_release')\n",
       "        this._key = null;\n",
       "\n",
       "    var value = '';\n",
       "    if (event.ctrlKey && event.which != 17)\n",
       "        value += \"ctrl+\";\n",
       "    if (event.altKey && event.which != 18)\n",
       "        value += \"alt+\";\n",
       "    if (event.shiftKey && event.which != 16)\n",
       "        value += \"shift+\";\n",
       "\n",
       "    value += 'k';\n",
       "    value += event.which.toString();\n",
       "\n",
       "    this._key_event_extra(event, name);\n",
       "\n",
       "    this.send_message(name, {key: value,\n",
       "                             guiEvent: simpleKeys(event)});\n",
       "    return false;\n",
       "}\n",
       "\n",
       "mpl.figure.prototype.toolbar_button_onclick = function(name) {\n",
       "    if (name == 'download') {\n",
       "        this.handle_save(this, null);\n",
       "    } else {\n",
       "        this.send_message(\"toolbar_button\", {name: name});\n",
       "    }\n",
       "};\n",
       "\n",
       "mpl.figure.prototype.toolbar_button_onmouseover = function(tooltip) {\n",
       "    this.message.textContent = tooltip;\n",
       "};\n",
       "mpl.toolbar_items = [[\"Home\", \"Reset original view\", \"fa fa-home icon-home\", \"home\"], [\"Back\", \"Back to previous view\", \"fa fa-arrow-left icon-arrow-left\", \"back\"], [\"Forward\", \"Forward to next view\", \"fa fa-arrow-right icon-arrow-right\", \"forward\"], [\"\", \"\", \"\", \"\"], [\"Pan\", \"Pan axes with left mouse, zoom with right\", \"fa fa-arrows icon-move\", \"pan\"], [\"Zoom\", \"Zoom to rectangle\", \"fa fa-square-o icon-check-empty\", \"zoom\"], [\"\", \"\", \"\", \"\"], [\"Download\", \"Download plot\", \"fa fa-floppy-o icon-save\", \"download\"]];\n",
       "\n",
       "mpl.extensions = [\"eps\", \"jpeg\", \"pdf\", \"png\", \"ps\", \"raw\", \"svg\", \"tif\"];\n",
       "\n",
       "mpl.default_extension = \"png\";var comm_websocket_adapter = function(comm) {\n",
       "    // Create a \"websocket\"-like object which calls the given IPython comm\n",
       "    // object with the appropriate methods. Currently this is a non binary\n",
       "    // socket, so there is still some room for performance tuning.\n",
       "    var ws = {};\n",
       "\n",
       "    ws.close = function() {\n",
       "        comm.close()\n",
       "    };\n",
       "    ws.send = function(m) {\n",
       "        //console.log('sending', m);\n",
       "        comm.send(m);\n",
       "    };\n",
       "    // Register the callback with on_msg.\n",
       "    comm.on_msg(function(msg) {\n",
       "        //console.log('receiving', msg['content']['data'], msg);\n",
       "        // Pass the mpl event to the overridden (by mpl) onmessage function.\n",
       "        ws.onmessage(msg['content']['data'])\n",
       "    });\n",
       "    return ws;\n",
       "}\n",
       "\n",
       "mpl.mpl_figure_comm = function(comm, msg) {\n",
       "    // This is the function which gets called when the mpl process\n",
       "    // starts-up an IPython Comm through the \"matplotlib\" channel.\n",
       "\n",
       "    var id = msg.content.data.id;\n",
       "    // Get hold of the div created by the display call when the Comm\n",
       "    // socket was opened in Python.\n",
       "    var element = $(\"#\" + id);\n",
       "    var ws_proxy = comm_websocket_adapter(comm)\n",
       "\n",
       "    function ondownload(figure, format) {\n",
       "        window.open(figure.imageObj.src);\n",
       "    }\n",
       "\n",
       "    var fig = new mpl.figure(id, ws_proxy,\n",
       "                           ondownload,\n",
       "                           element.get(0));\n",
       "\n",
       "    // Call onopen now - mpl needs it, as it is assuming we've passed it a real\n",
       "    // web socket which is closed, not our websocket->open comm proxy.\n",
       "    ws_proxy.onopen();\n",
       "\n",
       "    fig.parent_element = element.get(0);\n",
       "    fig.cell_info = mpl.find_output_cell(\"<div id='\" + id + \"'></div>\");\n",
       "    if (!fig.cell_info) {\n",
       "        console.error(\"Failed to find cell for figure\", id, fig);\n",
       "        return;\n",
       "    }\n",
       "\n",
       "    var output_index = fig.cell_info[2]\n",
       "    var cell = fig.cell_info[0];\n",
       "\n",
       "};\n",
       "\n",
       "mpl.figure.prototype.handle_close = function(fig, msg) {\n",
       "    var width = fig.canvas.width/mpl.ratio\n",
       "    fig.root.unbind('remove')\n",
       "\n",
       "    // Update the output cell to use the data from the current canvas.\n",
       "    fig.push_to_output();\n",
       "    var dataURL = fig.canvas.toDataURL();\n",
       "    // Re-enable the keyboard manager in IPython - without this line, in FF,\n",
       "    // the notebook keyboard shortcuts fail.\n",
       "    IPython.keyboard_manager.enable()\n",
       "    $(fig.parent_element).html('<img src=\"' + dataURL + '\" width=\"' + width + '\">');\n",
       "    fig.close_ws(fig, msg);\n",
       "}\n",
       "\n",
       "mpl.figure.prototype.close_ws = function(fig, msg){\n",
       "    fig.send_message('closing', msg);\n",
       "    // fig.ws.close()\n",
       "}\n",
       "\n",
       "mpl.figure.prototype.push_to_output = function(remove_interactive) {\n",
       "    // Turn the data on the canvas into data in the output cell.\n",
       "    var width = this.canvas.width/mpl.ratio\n",
       "    var dataURL = this.canvas.toDataURL();\n",
       "    this.cell_info[1]['text/html'] = '<img src=\"' + dataURL + '\" width=\"' + width + '\">';\n",
       "}\n",
       "\n",
       "mpl.figure.prototype.updated_canvas_event = function() {\n",
       "    // Tell IPython that the notebook contents must change.\n",
       "    IPython.notebook.set_dirty(true);\n",
       "    this.send_message(\"ack\", {});\n",
       "    var fig = this;\n",
       "    // Wait a second, then push the new image to the DOM so\n",
       "    // that it is saved nicely (might be nice to debounce this).\n",
       "    setTimeout(function () { fig.push_to_output() }, 1000);\n",
       "}\n",
       "\n",
       "mpl.figure.prototype._init_toolbar = function() {\n",
       "    var fig = this;\n",
       "\n",
       "    var nav_element = $('<div/>');\n",
       "    nav_element.attr('style', 'width: 100%');\n",
       "    this.root.append(nav_element);\n",
       "\n",
       "    // Define a callback function for later on.\n",
       "    function toolbar_event(event) {\n",
       "        return fig.toolbar_button_onclick(event['data']);\n",
       "    }\n",
       "    function toolbar_mouse_event(event) {\n",
       "        return fig.toolbar_button_onmouseover(event['data']);\n",
       "    }\n",
       "\n",
       "    for(var toolbar_ind in mpl.toolbar_items){\n",
       "        var name = mpl.toolbar_items[toolbar_ind][0];\n",
       "        var tooltip = mpl.toolbar_items[toolbar_ind][1];\n",
       "        var image = mpl.toolbar_items[toolbar_ind][2];\n",
       "        var method_name = mpl.toolbar_items[toolbar_ind][3];\n",
       "\n",
       "        if (!name) { continue; };\n",
       "\n",
       "        var button = $('<button class=\"btn btn-default\" href=\"#\" title=\"' + name + '\"><i class=\"fa ' + image + ' fa-lg\"></i></button>');\n",
       "        button.click(method_name, toolbar_event);\n",
       "        button.mouseover(tooltip, toolbar_mouse_event);\n",
       "        nav_element.append(button);\n",
       "    }\n",
       "\n",
       "    // Add the status bar.\n",
       "    var status_bar = $('<span class=\"mpl-message\" style=\"text-align:right; float: right;\"/>');\n",
       "    nav_element.append(status_bar);\n",
       "    this.message = status_bar[0];\n",
       "\n",
       "    // Add the close button to the window.\n",
       "    var buttongrp = $('<div class=\"btn-group inline pull-right\"></div>');\n",
       "    var button = $('<button class=\"btn btn-mini btn-primary\" href=\"#\" title=\"Stop Interaction\"><i class=\"fa fa-power-off icon-remove icon-large\"></i></button>');\n",
       "    button.click(function (evt) { fig.handle_close(fig, {}); } );\n",
       "    button.mouseover('Stop Interaction', toolbar_mouse_event);\n",
       "    buttongrp.append(button);\n",
       "    var titlebar = this.root.find($('.ui-dialog-titlebar'));\n",
       "    titlebar.prepend(buttongrp);\n",
       "}\n",
       "\n",
       "mpl.figure.prototype._root_extra_style = function(el){\n",
       "    var fig = this\n",
       "    el.on(\"remove\", function(){\n",
       "\tfig.close_ws(fig, {});\n",
       "    });\n",
       "}\n",
       "\n",
       "mpl.figure.prototype._canvas_extra_style = function(el){\n",
       "    // this is important to make the div 'focusable\n",
       "    el.attr('tabindex', 0)\n",
       "    // reach out to IPython and tell the keyboard manager to turn it's self\n",
       "    // off when our div gets focus\n",
       "\n",
       "    // location in version 3\n",
       "    if (IPython.notebook.keyboard_manager) {\n",
       "        IPython.notebook.keyboard_manager.register_events(el);\n",
       "    }\n",
       "    else {\n",
       "        // location in version 2\n",
       "        IPython.keyboard_manager.register_events(el);\n",
       "    }\n",
       "\n",
       "}\n",
       "\n",
       "mpl.figure.prototype._key_event_extra = function(event, name) {\n",
       "    var manager = IPython.notebook.keyboard_manager;\n",
       "    if (!manager)\n",
       "        manager = IPython.keyboard_manager;\n",
       "\n",
       "    // Check for shift+enter\n",
       "    if (event.shiftKey && event.which == 13) {\n",
       "        this.canvas_div.blur();\n",
       "        event.shiftKey = false;\n",
       "        // Send a \"J\" for go to next cell\n",
       "        event.which = 74;\n",
       "        event.keyCode = 74;\n",
       "        manager.command_mode();\n",
       "        manager.handle_keydown(event);\n",
       "    }\n",
       "}\n",
       "\n",
       "mpl.figure.prototype.handle_save = function(fig, msg) {\n",
       "    fig.ondownload(fig, null);\n",
       "}\n",
       "\n",
       "\n",
       "mpl.find_output_cell = function(html_output) {\n",
       "    // Return the cell and output element which can be found *uniquely* in the notebook.\n",
       "    // Note - this is a bit hacky, but it is done because the \"notebook_saving.Notebook\"\n",
       "    // IPython event is triggered only after the cells have been serialised, which for\n",
       "    // our purposes (turning an active figure into a static one), is too late.\n",
       "    var cells = IPython.notebook.get_cells();\n",
       "    var ncells = cells.length;\n",
       "    for (var i=0; i<ncells; i++) {\n",
       "        var cell = cells[i];\n",
       "        if (cell.cell_type === 'code'){\n",
       "            for (var j=0; j<cell.output_area.outputs.length; j++) {\n",
       "                var data = cell.output_area.outputs[j];\n",
       "                if (data.data) {\n",
       "                    // IPython >= 3 moved mimebundle to data attribute of output\n",
       "                    data = data.data;\n",
       "                }\n",
       "                if (data['text/html'] == html_output) {\n",
       "                    return [cell, data, j];\n",
       "                }\n",
       "            }\n",
       "        }\n",
       "    }\n",
       "}\n",
       "\n",
       "// Register the function which deals with the matplotlib target/channel.\n",
       "// The kernel may be null if the page has been refreshed.\n",
       "if (IPython.notebook.kernel != null) {\n",
       "    IPython.notebook.kernel.comm_manager.register_target('matplotlib', mpl.mpl_figure_comm);\n",
       "}\n"
      ],
      "text/plain": [
       "<IPython.core.display.Javascript object>"
      ]
     },
     "metadata": {},
     "output_type": "display_data"
    },
    {
     "data": {
      "text/html": [
       "<img src=\"data:image/png;base64,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\" width=\"640\">"
      ],
      "text/plain": [
       "<IPython.core.display.HTML object>"
      ]
     },
     "metadata": {},
     "output_type": "display_data"
    }
   ],
   "source": [
    "from mpl_toolkits.mplot3d import Axes3D\n",
    "import matplotlib.pyplot as plt\n",
    "%matplotlib notebook\n",
    "fig = plt.figure()\n",
    "ax = fig.add_subplot(111, projection='3d')\n",
    "ax.scatter(test_z[:,1],test_z[:,0], test_z[:,2], c=test_labels.astype(int))\n",
    "ax.set_xlabel('Encoded')\n",
    "ax.set_ylabel('Euclidean')\n",
    "ax.set_zlabel('Cosine')\n",
    "plt.show()"
   ]
  }
 ],
 "metadata": {
  "kernelspec": {
   "display_name": "Python 3",
   "language": "python",
   "name": "python3"
  },
  "language_info": {
   "codemirror_mode": {
    "name": "ipython",
    "version": 3
   },
   "file_extension": ".py",
   "mimetype": "text/x-python",
   "name": "python",
   "nbconvert_exporter": "python",
   "pygments_lexer": "ipython3",
   "version": "3.7.5"
  }
 },
 "nbformat": 4,
 "nbformat_minor": 2
}
